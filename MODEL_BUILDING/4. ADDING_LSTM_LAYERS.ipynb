{
  "nbformat": 4,
  "nbformat_minor": 0,
  "metadata": {
    "colab": {
      "provenance": [],
      "collapsed_sections": []
    },
    "kernelspec": {
      "name": "python3",
      "display_name": "Python 3"
    },
    "language_info": {
      "name": "python"
    }
  },
  "cells": [
    {
      "cell_type": "markdown",
      "source": [
        "# **IMPORTING MODEL BUILDING LIBRARIES**"
      ],
      "metadata": {
        "id": "pPnT_XVXQ9kh"
      }
    },
    {
      "cell_type": "code",
      "execution_count": 23,
      "metadata": {
        "id": "w8rCsBrUKfPw"
      },
      "outputs": [],
      "source": [
        "import numpy as np\n",
        "from keras.models import Sequential\n",
        "from keras.layers import LSTM\n",
        "from keras.layers import Dropout\n",
        "from keras.layers import Dense\n",
        "import pandas as pd\n",
        "from matplotlib import pyplot as plt\n",
        "from sklearn.preprocessing import StandardScaler\n",
        "from sklearn.metrics import mean_absolute_error as mae\n",
        "from sklearn.metrics import mean_squared_error as mse\n",
        "from sklearn.metrics import r2_score as r2s\n",
        "from google.colab import files\n",
        "from math import sqrt"
      ]
    },
    {
      "cell_type": "markdown",
      "source": [
        "# **INITIALIZING THE MODEL**"
      ],
      "metadata": {
        "id": "uDXO5HsXfQlW"
      }
    },
    {
      "cell_type": "code",
      "source": [
        "def plotCurve(x,y,xlable,ylabel,clabel):\n",
        "    fig, ax = plt.subplots(figsize=(5, 3))\n",
        "    fig.subplots_adjust(bottom=0.15, left=0.2)\n",
        "    ax.plot(x,y,label=clabel)\n",
        "    ax.set_xlabel(xlable)\n",
        "    ax.set_ylabel(ylabel)\n",
        "    plt.grid()\n",
        "    ax.legend()\n",
        "    plt.show()"
      ],
      "metadata": {
        "id": "GT0zND0ofPj2"
      },
      "execution_count": 24,
      "outputs": []
    },
    {
      "cell_type": "code",
      "source": [
        "def plotTwoCurves(x1,x2,y1,y2,xlable,ylabel,clabel1,clabel2):\n",
        "    fig, ax = plt.subplots(figsize=(5, 3))\n",
        "    fig.subplots_adjust(bottom=0.15, left=0.2)\n",
        "    ax.plot(x1,y1,color='blue',label=clabel1)\n",
        "    ax.plot(x2,y2,color='red',label=clabel2)\n",
        "    ax.set_xlabel(xlable)\n",
        "    ax.set_ylabel(ylabel)\n",
        "    plt.legend()\n",
        "    plt.show()"
      ],
      "metadata": {
        "id": "IpSN0phkfa-I"
      },
      "execution_count": 25,
      "outputs": []
    },
    {
      "cell_type": "code",
      "source": [
        "ds=pd.read_csv('Crude_Oil_Prices.csv')\n",
        "ds=ds.set_index(ds['Date'])\n",
        "ds=ds.dropna()\n",
        "print(ds)\n",
        "ds['Date']=pd.to_datetime(ds['Date'])\n",
        "print(ds['Value'].head())\n",
        "index1=ds['Date']"
      ],
      "metadata": {
        "colab": {
          "base_uri": "https://localhost:8080/"
        },
        "id": "BW_Bq1q-ffEo",
        "outputId": "68d1e609-6b3a-44c6-d469-3f75690f152f"
      },
      "execution_count": 26,
      "outputs": [
        {
          "output_type": "stream",
          "name": "stdout",
          "text": [
            "                  Date  Value\n",
            "Date                         \n",
            "02-01-1986  02-01-1986  25.56\n",
            "03-01-1986  03-01-1986  26.00\n",
            "06-01-1986  06-01-1986  26.53\n",
            "07-01-1986  07-01-1986  25.85\n",
            "08-01-1986  08-01-1986  25.87\n",
            "...                ...    ...\n",
            "20-10-2022  20-10-2022  85.98\n",
            "21-10-2022  21-10-2022  85.05\n",
            "24-10-2022  24-10-2022  84.92\n",
            "25-10-2022  25-10-2022  84.79\n",
            "26-10-2022  26-10-2022  88.05\n",
            "\n",
            "[9294 rows x 2 columns]\n",
            "Date\n",
            "02-01-1986    25.56\n",
            "03-01-1986    26.00\n",
            "06-01-1986    26.53\n",
            "07-01-1986    25.85\n",
            "08-01-1986    25.87\n",
            "Name: Value, dtype: float64\n"
          ]
        }
      ]
    },
    {
      "cell_type": "code",
      "source": [
        "plotCurve(index1,ds['Value'],'Time(Days)','Price','Price Series')"
      ],
      "metadata": {
        "colab": {
          "base_uri": "https://localhost:8080/",
          "height": 221
        },
        "id": "YsyjMeKig2Ef",
        "outputId": "ff899b01-7e03-4cf2-8e83-cd2c30cb2423"
      },
      "execution_count": 27,
      "outputs": [
        {
          "output_type": "display_data",
          "data": {
            "text/plain": [
              "<Figure size 360x216 with 1 Axes>"
            ],
            "image/png": "[encoded data removed]"
          },
          "metadata": {
            "needs_background": "light"
          }
        }
      ]
    },
    {
      "cell_type": "code",
      "source": [
        "ds_price=ds['Value'].astype(float)\n",
        "scaler=StandardScaler()\n",
        "scaler=scaler.fit(ds_price.values.reshape(-1, 1))\n",
        "ds_price_scaled=scaler.transform(ds_price.values.reshape(-1, 1))\n",
        "ds_price_scaled"
      ],
      "metadata": {
        "colab": {
          "base_uri": "https://localhost:8080/"
        },
        "id": "dM9vK9Maj30e",
        "outputId": "b7527401-6b94-4490-d7f5-6b7bca2c343f"
      },
      "execution_count": 28,
      "outputs": [
        {
          "output_type": "execute_result",
          "data": {
            "text/plain": [
              "array([[-0.68979433],\n",
              "       [-0.67488539],\n",
              "       [-0.65692689],\n",
              "       ...,\n",
              "       [ 1.32155776],\n",
              "       [ 1.31715284],\n",
              "       [ 1.42761456]])"
            ]
          },
          "metadata": {},
          "execution_count": 28
        }
      ]
    },
    {
      "cell_type": "code",
      "source": [
        "plotTwoCurves(index1,index1,ds['Value'],ds_price_scaled,'Time(Days)','Price','Price Series','Scaled Price')"
      ],
      "metadata": {
        "colab": {
          "base_uri": "https://localhost:8080/",
          "height": 221
        },
        "id": "wa70lKYkj5cV",
        "outputId": "33d125c0-6d61-41da-8647-ab9f7dd4c3ce"
      },
      "execution_count": 29,
      "outputs": [
        {
          "output_type": "display_data",
          "data": {
            "text/plain": [
              "<Figure size 360x216 with 1 Axes>"
            ],
            "image/png": "[encoded data removed]"
          },
          "metadata": {
            "needs_background": "light"
          }
        }
      ]
    },
    {
      "cell_type": "markdown",
      "source": [
        "# **CREATING TRAINING AND TESTING DATA**"
      ],
      "metadata": {
        "id": "3CcnGDF_kaeO"
      }
    },
    {
      "cell_type": "code",
      "source": [
        "oilPX=[]\n",
        "oilPY=[]\n",
        "predicted_data=0\n",
        "actual_data=0\n",
        "next_period=1\n",
        "window_size=14"
      ],
      "metadata": {
        "id": "ZpgW7NovlVSw"
      },
      "execution_count": 30,
      "outputs": []
    },
    {
      "cell_type": "code",
      "source": [
        "for i in range(window_size, len(ds_price_scaled)-next_period+1):\n",
        "    oilPX.append(ds_price_scaled[i-window_size:i])\n",
        "    oilPY.append(ds_price_scaled[i+next_period-1:i+next_period,0])"
      ],
      "metadata": {
        "id": "rapCOjFnliwz"
      },
      "execution_count": 31,
      "outputs": []
    },
    {
      "cell_type": "code",
      "source": [
        "oilPX,oilPY=np.array(oilPX),np.array(oilPY)"
      ],
      "metadata": {
        "id": "Kt0jOUrhmGbA"
      },
      "execution_count": 32,
      "outputs": []
    },
    {
      "cell_type": "code",
      "source": [
        "print('shape= {}.'.format(ds.shape))\n",
        "print('Price Scaled shape= {}.'.format(ds_price_scaled.shape))\n",
        "print('oilPX shape== {}.'.format(oilPX.shape))\n",
        "print('oilPY shape== {}.'.format(oilPY.shape))"
      ],
      "metadata": {
        "colab": {
          "base_uri": "https://localhost:8080/"
        },
        "id": "kSaiiseXmIK1",
        "outputId": "a5e27d64-c9b5-46d9-fd94-e1fa119fcf34"
      },
      "execution_count": 33,
      "outputs": [
        {
          "output_type": "stream",
          "name": "stdout",
          "text": [
            "shape= (9294, 2).\n",
            "Price Scaled shape= (9294, 1).\n",
            "oilPX shape== (9280, 14, 1).\n",
            "oilPY shape== (9280, 1).\n"
          ]
        }
      ]
    },
    {
      "cell_type": "markdown",
      "source": [
        "# **ADDING LSTM LAYERS**"
      ],
      "metadata": {
        "id": "XS7Coti0o87C"
      }
    },
    {
      "cell_type": "code",
      "source": [
        "model=Sequential()\n",
        "model.add(LSTM(100, activation='relu', input_shape=(oilPX.shape[1], oilPX.shape[2]), return_sequences=True))\n",
        "model.add(LSTM(50, activation='relu', return_sequences=False))\n",
        "model.add(Dropout(0.2))\n",
        "model.add(Dense(oilPY.shape[1]))"
      ],
      "metadata": {
        "id": "PccYuRXZo7tV"
      },
      "execution_count": 34,
      "outputs": []
    },
    {
      "cell_type": "code",
      "source": [
        "model.compile(optimizer='adam',loss='mse')\n",
        "model.summary()"
      ],
      "metadata": {
        "colab": {
          "base_uri": "https://localhost:8080/"
        },
        "id": "8HiLbeQKpVWV",
        "outputId": "b06d0c0b-5caa-4385-d2b7-ae51612992dd"
      },
      "execution_count": 35,
      "outputs": [
        {
          "output_type": "stream",
          "name": "stdout",
          "text": [
            "Model: \"sequential_1\"\n",
            "_________________________________________________________________\n",
            " Layer (type)                Output Shape              Param #   \n",
            "=================================================================\n",
            " lstm_2 (LSTM)               (None, 14, 100)           40800     \n",
            "                                                                 \n",
            " lstm_3 (LSTM)               (None, 50)                30200     \n",
            "                                                                 \n",
            " dropout_1 (Dropout)         (None, 50)                0         \n",
            "                                                                 \n",
            " dense_1 (Dense)             (None, 1)                 51        \n",
            "                                                                 \n",
            "=================================================================\n",
            "Total params: 71,051\n",
            "Trainable params: 71,051\n",
            "Non-trainable params: 0\n",
            "_________________________________________________________________\n"
          ]
        }
      ]
    },
    {
      "cell_type": "code",
      "source": [
        "history=model.fit(oilPX,oilPY,epochs=30,batch_size=16, validation_split=0.1,verbose=1)\n",
        "index2=range(0,len(history.history['loss']))"
      ],
      "metadata": {
        "colab": {
          "base_uri": "https://localhost:8080/"
        },
        "id": "P3WZ-NQDp2MC",
        "outputId": "adb90d39-1051-499c-f508-6c205987ff9b"
      },
      "execution_count": 36,
      "outputs": [
        {
          "output_type": "stream",
          "name": "stdout",
          "text": [
            "Epoch 1/30\n",
            "522/522 [==============================] - 11s 16ms/step - loss: 0.0487 - val_loss: 0.0150\n",
            "Epoch 2/30\n",
            "522/522 [==============================] - 8s 15ms/step - loss: 0.0236 - val_loss: 0.0154\n",
            "Epoch 3/30\n",
            "522/522 [==============================] - 8s 15ms/step - loss: 0.0230 - val_loss: 0.0121\n",
            "Epoch 4/30\n",
            "522/522 [==============================] - 8s 15ms/step - loss: 0.0210 - val_loss: 0.0118\n",
            "Epoch 5/30\n",
            "522/522 [==============================] - 8s 15ms/step - loss: 0.0225 - val_loss: 0.0119\n",
            "Epoch 6/30\n",
            "522/522 [==============================] - 8s 15ms/step - loss: 0.0219 - val_loss: 0.0108\n",
            "Epoch 7/30\n",
            "522/522 [==============================] - 8s 15ms/step - loss: 0.0213 - val_loss: 0.0099\n",
            "Epoch 8/30\n",
            "522/522 [==============================] - 8s 15ms/step - loss: 0.0210 - val_loss: 0.0077\n",
            "Epoch 9/30\n",
            "522/522 [==============================] - 8s 15ms/step - loss: 0.0192 - val_loss: 0.0073\n",
            "Epoch 10/30\n",
            "522/522 [==============================] - 8s 15ms/step - loss: 0.0187 - val_loss: 0.0067\n",
            "Epoch 11/30\n",
            "522/522 [==============================] - 8s 15ms/step - loss: 0.0189 - val_loss: 0.0072\n",
            "Epoch 12/30\n",
            "522/522 [==============================] - 10s 19ms/step - loss: 0.0185 - val_loss: 0.0096\n",
            "Epoch 13/30\n",
            "522/522 [==============================] - 8s 15ms/step - loss: 0.0183 - val_loss: 0.0061\n",
            "Epoch 14/30\n",
            "522/522 [==============================] - 8s 15ms/step - loss: 0.0187 - val_loss: 0.0074\n",
            "Epoch 15/30\n",
            "522/522 [==============================] - 8s 15ms/step - loss: 0.0177 - val_loss: 0.0062\n",
            "Epoch 16/30\n",
            "522/522 [==============================] - 8s 15ms/step - loss: 0.0193 - val_loss: 0.0072\n",
            "Epoch 17/30\n",
            "522/522 [==============================] - 8s 15ms/step - loss: 0.0181 - val_loss: 0.0074\n",
            "Epoch 18/30\n",
            "522/522 [==============================] - 9s 17ms/step - loss: 0.0173 - val_loss: 0.0054\n",
            "Epoch 19/30\n",
            "522/522 [==============================] - 8s 15ms/step - loss: 0.0177 - val_loss: 0.0075\n",
            "Epoch 20/30\n",
            "522/522 [==============================] - 8s 15ms/step - loss: 0.0185 - val_loss: 0.0200\n",
            "Epoch 21/30\n",
            "522/522 [==============================] - 8s 15ms/step - loss: 0.0181 - val_loss: 0.0074\n",
            "Epoch 22/30\n",
            "522/522 [==============================] - 8s 15ms/step - loss: 0.0173 - val_loss: 0.0052\n",
            "Epoch 23/30\n",
            "522/522 [==============================] - 8s 15ms/step - loss: 0.0177 - val_loss: 0.0051\n",
            "Epoch 24/30\n",
            "522/522 [==============================] - 8s 15ms/step - loss: 0.0182 - val_loss: 0.0068\n",
            "Epoch 25/30\n",
            "522/522 [==============================] - 8s 15ms/step - loss: 0.0172 - val_loss: 0.0067\n",
            "Epoch 26/30\n",
            "522/522 [==============================] - 8s 15ms/step - loss: 0.0177 - val_loss: 0.0050\n",
            "Epoch 27/30\n",
            "522/522 [==============================] - 8s 15ms/step - loss: 0.0187 - val_loss: 0.0054\n",
            "Epoch 28/30\n",
            "522/522 [==============================] - 8s 15ms/step - loss: 0.0180 - val_loss: 0.0064\n",
            "Epoch 29/30\n",
            "522/522 [==============================] - 8s 15ms/step - loss: 0.0171 - val_loss: 0.0060\n",
            "Epoch 30/30\n",
            "522/522 [==============================] - 8s 15ms/step - loss: 0.0172 - val_loss: 0.0065\n"
          ]
        }
      ]
    },
    {
      "cell_type": "code",
      "source": [
        "plotTwoCurves(index2,index2,history.history['loss'],history.history['val_loss'],'Epochs','Loss','Loss Series','Value loss Series')"
      ],
      "metadata": {
        "colab": {
          "base_uri": "https://localhost:8080/",
          "height": 221
        },
        "id": "Xwnzx10pwZN_",
        "outputId": "fb90e360-e618-4b85-fcf7-e1d482010f28"
      },
      "execution_count": 37,
      "outputs": [
        {
          "output_type": "display_data",
          "data": {
            "text/plain": [
              "<Figure size 360x216 with 1 Axes>"
            ],
            "image/png": "[encoded data removed]"
          },
          "metadata": {
            "needs_background": "light"
          }
        }
      ]
    }
  ]
}