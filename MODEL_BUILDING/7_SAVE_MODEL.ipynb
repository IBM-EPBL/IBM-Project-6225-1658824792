{
  "nbformat": 4,
  "nbformat_minor": 0,
  "metadata": {
    "colab": {
      "provenance": [],
      "collapsed_sections": []
    },
    "kernelspec": {
      "name": "python3",
      "display_name": "Python 3"
    },
    "language_info": {
      "name": "python"
    }
  },
  "cells": [
    {
      "cell_type": "markdown",
      "source": [
        "# **IMPORTING MODEL BUILDING LIBRARIES**"
      ],
      "metadata": {
        "id": "pPnT_XVXQ9kh"
      }
    },
    {
      "cell_type": "code",
      "execution_count": 24,
      "metadata": {
        "id": "w8rCsBrUKfPw"
      },
      "outputs": [],
      "source": [
        "import numpy as np\n",
        "from keras.models import Sequential\n",
        "from keras.layers import LSTM\n",
        "from keras.layers import Dropout\n",
        "from keras.layers import Dense\n",
        "import pandas as pd\n",
        "from matplotlib import pyplot as plt\n",
        "from sklearn.preprocessing import StandardScaler\n",
        "from sklearn.metrics import mean_absolute_error as mae\n",
        "from sklearn.metrics import mean_squared_error as mse\n",
        "from sklearn.metrics import r2_score as r2s\n",
        "from google.colab import files\n",
        "from math import sqrt"
      ]
    },
    {
      "cell_type": "markdown",
      "source": [
        "# **INITIALIZING THE MODEL**"
      ],
      "metadata": {
        "id": "uDXO5HsXfQlW"
      }
    },
    {
      "cell_type": "code",
      "source": [
        "def plotCurve(x,y,xlable,ylabel,clabel):\n",
        "    fig, ax = plt.subplots(figsize=(5, 3))\n",
        "    fig.subplots_adjust(bottom=0.15, left=0.2)\n",
        "    ax.plot(x,y,label=clabel)\n",
        "    ax.set_xlabel(xlable)\n",
        "    ax.set_ylabel(ylabel)\n",
        "    plt.grid()\n",
        "    ax.legend()\n",
        "    plt.show()"
      ],
      "metadata": {
        "id": "GT0zND0ofPj2"
      },
      "execution_count": 25,
      "outputs": []
    },
    {
      "cell_type": "code",
      "source": [
        "def plotTwoCurves(x1,x2,y1,y2,xlable,ylabel,clabel1,clabel2):\n",
        "    fig, ax = plt.subplots(figsize=(5, 3))\n",
        "    fig.subplots_adjust(bottom=0.15, left=0.2)\n",
        "    ax.plot(x1,y1,color='blue',label=clabel1)\n",
        "    ax.plot(x2,y2,color='red',label=clabel2)\n",
        "    ax.set_xlabel(xlable)\n",
        "    ax.set_ylabel(ylabel)\n",
        "    plt.legend()\n",
        "    plt.show()"
      ],
      "metadata": {
        "id": "IpSN0phkfa-I"
      },
      "execution_count": 26,
      "outputs": []
    },
    {
      "cell_type": "code",
      "source": [
        "ds=pd.read_csv('Crude_Oil_Prices.csv')\n",
        "ds=ds.set_index(ds['Date'])\n",
        "ds=ds.dropna()\n",
        "print(ds)\n",
        "ds['Date']=pd.to_datetime(ds['Date'])\n",
        "print(ds['Value'].head())\n",
        "index1=ds['Date']"
      ],
      "metadata": {
        "colab": {
          "base_uri": "https://localhost:8080/"
        },
        "id": "BW_Bq1q-ffEo",
        "outputId": "fdd2d9b0-63fd-4dac-a781-7823f82a38d3"
      },
      "execution_count": 27,
      "outputs": [
        {
          "output_type": "stream",
          "name": "stdout",
          "text": [
            "                  Date  Value\n",
            "Date                         \n",
            "02-01-1986  02-01-1986  25.56\n",
            "03-01-1986  03-01-1986  26.00\n",
            "06-01-1986  06-01-1986  26.53\n",
            "07-01-1986  07-01-1986  25.85\n",
            "08-01-1986  08-01-1986  25.87\n",
            "...                ...    ...\n",
            "20-10-2022  20-10-2022  85.98\n",
            "21-10-2022  21-10-2022  85.05\n",
            "24-10-2022  24-10-2022  84.92\n",
            "25-10-2022  25-10-2022  84.79\n",
            "26-10-2022  26-10-2022  88.05\n",
            "\n",
            "[9294 rows x 2 columns]\n",
            "Date\n",
            "02-01-1986    25.56\n",
            "03-01-1986    26.00\n",
            "06-01-1986    26.53\n",
            "07-01-1986    25.85\n",
            "08-01-1986    25.87\n",
            "Name: Value, dtype: float64\n"
          ]
        }
      ]
    },
    {
      "cell_type": "code",
      "source": [
        "plotCurve(index1,ds['Value'],'Time(Days)','Price','Price Series')"
      ],
      "metadata": {
        "colab": {
          "base_uri": "https://localhost:8080/",
          "height": 221
        },
        "id": "YsyjMeKig2Ef",
        "outputId": "3cee3747-25db-4f7b-c30b-f393d5f2aab9"
      },
      "execution_count": 28,
      "outputs": [
        {
          "output_type": "display_data",
          "data": {
            "text/plain": [
              "<Figure size 360x216 with 1 Axes>"
            ],
            "image/png": "[encoded data removed]"
          },
          "metadata": {
            "needs_background": "light"
          }
        }
      ]
    },
    {
      "cell_type": "code",
      "source": [
        "ds_price=ds['Value'].astype(float)\n",
        "scaler=StandardScaler()\n",
        "scaler=scaler.fit(ds_price.values.reshape(-1, 1))\n",
        "ds_price_scaled=scaler.transform(ds_price.values.reshape(-1, 1))\n",
        "ds_price_scaled"
      ],
      "metadata": {
        "colab": {
          "base_uri": "https://localhost:8080/"
        },
        "id": "dM9vK9Maj30e",
        "outputId": "adaec1e1-ebda-4c09-d4cc-f773106814e7"
      },
      "execution_count": 29,
      "outputs": [
        {
          "output_type": "execute_result",
          "data": {
            "text/plain": [
              "array([[-0.68979433],\n",
              "       [-0.67488539],\n",
              "       [-0.65692689],\n",
              "       ...,\n",
              "       [ 1.32155776],\n",
              "       [ 1.31715284],\n",
              "       [ 1.42761456]])"
            ]
          },
          "metadata": {},
          "execution_count": 29
        }
      ]
    },
    {
      "cell_type": "code",
      "source": [
        "plotTwoCurves(index1,index1,ds['Value'],ds_price_scaled,'Time(Days)','Price','Price Series','Scaled Price')"
      ],
      "metadata": {
        "colab": {
          "base_uri": "https://localhost:8080/",
          "height": 221
        },
        "id": "wa70lKYkj5cV",
        "outputId": "becc5c8a-f051-4b76-93a0-3e253690e1d8"
      },
      "execution_count": 30,
      "outputs": [
        {
          "output_type": "display_data",
          "data": {
            "text/plain": [
              "<Figure size 360x216 with 1 Axes>"
            ],
            "image/png": "[encoded data removed]"
          },
          "metadata": {
            "needs_background": "light"
          }
        }
      ]
    },
    {
      "cell_type": "markdown",
      "source": [
        "# **CREATING TRAINING AND TESTING DATA**"
      ],
      "metadata": {
        "id": "3CcnGDF_kaeO"
      }
    },
    {
      "cell_type": "code",
      "source": [
        "oilPX=[]\n",
        "oilPY=[]\n",
        "predicted_data=0\n",
        "actual_data=0\n",
        "next_period=1\n",
        "window_size=14"
      ],
      "metadata": {
        "id": "ZpgW7NovlVSw"
      },
      "execution_count": 31,
      "outputs": []
    },
    {
      "cell_type": "code",
      "source": [
        "for i in range(window_size, len(ds_price_scaled)-next_period+1):\n",
        "    oilPX.append(ds_price_scaled[i-window_size:i])\n",
        "    oilPY.append(ds_price_scaled[i+next_period-1:i+next_period,0])"
      ],
      "metadata": {
        "id": "rapCOjFnliwz"
      },
      "execution_count": 32,
      "outputs": []
    },
    {
      "cell_type": "code",
      "source": [
        "oilPX,oilPY=np.array(oilPX),np.array(oilPY)"
      ],
      "metadata": {
        "id": "Kt0jOUrhmGbA"
      },
      "execution_count": 33,
      "outputs": []
    },
    {
      "cell_type": "code",
      "source": [
        "print('shape= {}.'.format(ds.shape))\n",
        "print('Price Scaled shape= {}.'.format(ds_price_scaled.shape))\n",
        "print('oilPX shape== {}.'.format(oilPX.shape))\n",
        "print('oilPY shape== {}.'.format(oilPY.shape))"
      ],
      "metadata": {
        "colab": {
          "base_uri": "https://localhost:8080/"
        },
        "id": "kSaiiseXmIK1",
        "outputId": "9fe077cf-7ef2-4c39-bad1-c7e0e4b51e9c"
      },
      "execution_count": 34,
      "outputs": [
        {
          "output_type": "stream",
          "name": "stdout",
          "text": [
            "shape= (9294, 2).\n",
            "Price Scaled shape= (9294, 1).\n",
            "oilPX shape== (9280, 14, 1).\n",
            "oilPY shape== (9280, 1).\n"
          ]
        }
      ]
    },
    {
      "cell_type": "markdown",
      "source": [
        "# **ADDING LSTM LAYERS**"
      ],
      "metadata": {
        "id": "XS7Coti0o87C"
      }
    },
    {
      "cell_type": "code",
      "source": [
        "model=Sequential()\n",
        "model.add(LSTM(100, activation='relu', input_shape=(oilPX.shape[1], oilPX.shape[2]), return_sequences=True))\n",
        "model.add(LSTM(50, activation='relu', return_sequences=False))\n",
        "model.add(Dropout(0.2))\n",
        "model.add(Dense(oilPY.shape[1]))"
      ],
      "metadata": {
        "id": "PccYuRXZo7tV"
      },
      "execution_count": 35,
      "outputs": []
    },
    {
      "cell_type": "code",
      "source": [
        "model.compile(optimizer='adam',loss='mse')\n",
        "model.summary()"
      ],
      "metadata": {
        "colab": {
          "base_uri": "https://localhost:8080/"
        },
        "id": "8HiLbeQKpVWV",
        "outputId": "49c36462-6883-402a-ecf4-697aee921a7a"
      },
      "execution_count": 36,
      "outputs": [
        {
          "output_type": "stream",
          "name": "stdout",
          "text": [
            "Model: \"sequential_1\"\n",
            "_________________________________________________________________\n",
            " Layer (type)                Output Shape              Param #   \n",
            "=================================================================\n",
            " lstm_2 (LSTM)               (None, 14, 100)           40800     \n",
            "                                                                 \n",
            " lstm_3 (LSTM)               (None, 50)                30200     \n",
            "                                                                 \n",
            " dropout_1 (Dropout)         (None, 50)                0         \n",
            "                                                                 \n",
            " dense_1 (Dense)             (None, 1)                 51        \n",
            "                                                                 \n",
            "=================================================================\n",
            "Total params: 71,051\n",
            "Trainable params: 71,051\n",
            "Non-trainable params: 0\n",
            "_________________________________________________________________\n"
          ]
        }
      ]
    },
    {
      "cell_type": "code",
      "source": [
        "history=model.fit(oilPX,oilPY,epochs=30,batch_size=16, validation_split=0.1,verbose=1)\n",
        "index2=range(0,len(history.history['loss']))"
      ],
      "metadata": {
        "colab": {
          "base_uri": "https://localhost:8080/"
        },
        "id": "P3WZ-NQDp2MC",
        "outputId": "566cd2a8-5e74-4969-ff3a-4c92caffdb48"
      },
      "execution_count": 37,
      "outputs": [
        {
          "output_type": "stream",
          "name": "stdout",
          "text": [
            "Epoch 1/30\n",
            "522/522 [==============================] - 10s 15ms/step - loss: 0.0460 - val_loss: 0.0175\n",
            "Epoch 2/30\n",
            "522/522 [==============================] - 7s 14ms/step - loss: 0.0220 - val_loss: 0.0135\n",
            "Epoch 3/30\n",
            "522/522 [==============================] - 7s 14ms/step - loss: 0.0233 - val_loss: 0.0114\n",
            "Epoch 4/30\n",
            "522/522 [==============================] - 8s 15ms/step - loss: 0.0216 - val_loss: 0.0112\n",
            "Epoch 5/30\n",
            "522/522 [==============================] - 8s 15ms/step - loss: 0.0203 - val_loss: 0.0239\n",
            "Epoch 6/30\n",
            "522/522 [==============================] - 7s 14ms/step - loss: 0.0209 - val_loss: 0.0093\n",
            "Epoch 7/30\n",
            "522/522 [==============================] - 7s 14ms/step - loss: 0.0195 - val_loss: 0.0104\n",
            "Epoch 8/30\n",
            "522/522 [==============================] - 7s 14ms/step - loss: 0.0191 - val_loss: 0.0074\n",
            "Epoch 9/30\n",
            "522/522 [==============================] - 7s 14ms/step - loss: 0.0192 - val_loss: 0.0133\n",
            "Epoch 10/30\n",
            "522/522 [==============================] - 7s 14ms/step - loss: 0.0183 - val_loss: 0.0079\n",
            "Epoch 11/30\n",
            "522/522 [==============================] - 7s 14ms/step - loss: 0.0173 - val_loss: 0.0064\n",
            "Epoch 12/30\n",
            "522/522 [==============================] - 7s 14ms/step - loss: 0.0181 - val_loss: 0.0078\n",
            "Epoch 13/30\n",
            "522/522 [==============================] - 7s 14ms/step - loss: 0.0192 - val_loss: 0.0059\n",
            "Epoch 14/30\n",
            "522/522 [==============================] - 7s 14ms/step - loss: 0.0178 - val_loss: 0.0057\n",
            "Epoch 15/30\n",
            "522/522 [==============================] - 7s 14ms/step - loss: 0.0180 - val_loss: 0.0067\n",
            "Epoch 16/30\n",
            "522/522 [==============================] - 7s 14ms/step - loss: 0.0178 - val_loss: 0.0059\n",
            "Epoch 17/30\n",
            "522/522 [==============================] - 7s 14ms/step - loss: 0.0182 - val_loss: 0.0058\n",
            "Epoch 18/30\n",
            "522/522 [==============================] - 7s 14ms/step - loss: 0.0169 - val_loss: 0.0061\n",
            "Epoch 19/30\n",
            "522/522 [==============================] - 7s 14ms/step - loss: 0.0174 - val_loss: 0.0126\n",
            "Epoch 20/30\n",
            "522/522 [==============================] - 7s 14ms/step - loss: 0.0178 - val_loss: 0.0054\n",
            "Epoch 21/30\n",
            "522/522 [==============================] - 7s 14ms/step - loss: 0.0171 - val_loss: 0.0058\n",
            "Epoch 22/30\n",
            "522/522 [==============================] - 7s 14ms/step - loss: 0.0181 - val_loss: 0.0069\n",
            "Epoch 23/30\n",
            "522/522 [==============================] - 7s 14ms/step - loss: 0.0167 - val_loss: 0.0058\n",
            "Epoch 24/30\n",
            "522/522 [==============================] - 7s 14ms/step - loss: 0.0173 - val_loss: 0.0053\n",
            "Epoch 25/30\n",
            "522/522 [==============================] - 7s 14ms/step - loss: 0.0181 - val_loss: 0.0078\n",
            "Epoch 26/30\n",
            "522/522 [==============================] - 7s 14ms/step - loss: 0.0173 - val_loss: 0.0081\n",
            "Epoch 27/30\n",
            "522/522 [==============================] - 7s 14ms/step - loss: 0.0176 - val_loss: 0.0050\n",
            "Epoch 28/30\n",
            "522/522 [==============================] - 7s 14ms/step - loss: 0.0176 - val_loss: 0.0050\n",
            "Epoch 29/30\n",
            "522/522 [==============================] - 7s 14ms/step - loss: 0.0179 - val_loss: 0.0075\n",
            "Epoch 30/30\n",
            "522/522 [==============================] - 7s 14ms/step - loss: 0.0176 - val_loss: 0.0128\n"
          ]
        }
      ]
    },
    {
      "cell_type": "code",
      "source": [
        "plotTwoCurves(index2,index2,history.history['loss'],history.history['val_loss'],'Epochs','Loss','Loss Series','Value loss Series')"
      ],
      "metadata": {
        "colab": {
          "base_uri": "https://localhost:8080/",
          "height": 220
        },
        "id": "Xwnzx10pwZN_",
        "outputId": "dd4adca1-7268-40b2-b1cc-bd457d393999"
      },
      "execution_count": 38,
      "outputs": [
        {
          "output_type": "display_data",
          "data": {
            "text/plain": [
              "<Figure size 360x216 with 1 Axes>"
            ],
            "image/png": "[encoded data removed]"
          },
          "metadata": {
            "needs_background": "light"
          }
        }
      ]
    },
    {
      "cell_type": "markdown",
      "source": [
        "# **ADDING OUTPUT LAYERS, TESTING DATA AND CONFIGURING OUPUT DATA**"
      ],
      "metadata": {
        "id": "f07yfrULsVgf"
      }
    },
    {
      "cell_type": "code",
      "source": [
        "forecast_date=80\n",
        "predicted_data=model.predict(oilPX[-forecast_date:])\n",
        "actual_data=ds['Value'][-forecast_date:]"
      ],
      "metadata": {
        "colab": {
          "base_uri": "https://localhost:8080/"
        },
        "id": "rId2P2bJsEY3",
        "outputId": "8fff3f4d-bc3f-4fa7-de21-05796621d566"
      },
      "execution_count": 39,
      "outputs": [
        {
          "output_type": "stream",
          "name": "stdout",
          "text": [
            "3/3 [==============================] - 0s 8ms/step\n"
          ]
        }
      ]
    },
    {
      "cell_type": "code",
      "source": [
        "predicted_data_NN=scaler.inverse_transform(predicted_data)\n",
        "index3=range(0,len(predicted_data_NN))\n",
        "plotTwoCurves(index3,index3,ds['Value'][-forecast_date:],predicted_data_NN,'Time(Days)','Price','Actual Oil Price','Predicted Oil Price')"
      ],
      "metadata": {
        "colab": {
          "base_uri": "https://localhost:8080/",
          "height": 220
        },
        "id": "rckn9fu6sgmE",
        "outputId": "b8d349ff-57f0-4d35-89d3-3a4726465dd6"
      },
      "execution_count": 40,
      "outputs": [
        {
          "output_type": "display_data",
          "data": {
            "text/plain": [
              "<Figure size 360x216 with 1 Axes>"
            ],
            "image/png": "[encoded data removed]"
          },
          "metadata": {
            "needs_background": "light"
          }
        }
      ]
    },
    {
      "cell_type": "code",
      "source": [
        "index4=range(0,len(ds)-forecast_date)\n",
        "index5=range(len(ds)-forecast_date,len(ds))\n",
        "plotTwoCurves(index4,index5,ds['Value'][0:len(ds)-forecast_date],predicted_data_NN,'Time(Days)','Price','Actual Oil Price','Predicted Oil Price')\n"
      ],
      "metadata": {
        "colab": {
          "base_uri": "https://localhost:8080/",
          "height": 221
        },
        "id": "e7WGDKnNtV2j",
        "outputId": "7ea9bf0b-172a-4544-97e9-ba9b3ba83b87"
      },
      "execution_count": 41,
      "outputs": [
        {
          "output_type": "display_data",
          "data": {
            "text/plain": [
              "<Figure size 360x216 with 1 Axes>"
            ],
            "image/png": "[encoded data removed]"
          },
          "metadata": {
            "needs_background": "light"
          }
        }
      ]
    },
    {
      "cell_type": "markdown",
      "source": [
        "# **EVALUATING AND TESTING DATA**"
      ],
      "metadata": {
        "id": "bYxwPdaII0ye"
      }
    },
    {
      "cell_type": "code",
      "source": [
        "mae1=mae(actual_data,predicted_data_NN)\n",
        "mse1=mse(actual_data,predicted_data_NN)\n",
        "print(mse1)\n",
        "rmse1=sqrt(mse1)\n",
        "r2_score=r2s(actual_data,predicted_data_NN)\n",
        "print(r2_score)\n",
        "n=forecast_date\n",
        "k=1\n",
        "adjacent_result=1-(((1-r2_score)*(n-1))/(n-k-1))\n",
        "print(adjacent_result)"
      ],
      "metadata": {
        "colab": {
          "base_uri": "https://localhost:8080/"
        },
        "id": "30dnSrPpElKM",
        "outputId": "68d00458-085e-4493-880e-9641309af32d"
      },
      "execution_count": 42,
      "outputs": [
        {
          "output_type": "stream",
          "name": "stdout",
          "text": [
            "18.75947317575413\n",
            "0.48860404154292103\n",
            "0.48204768310116364\n"
          ]
        }
      ]
    },
    {
      "cell_type": "code",
      "source": [
        "predict_index1=range(len(ds)-128,len(ds)-forecast_date)\n",
        "predict_index2=range(len(ds)-forecast_date,len(ds))\n",
        "plotTwoCurves(predict_index1,predict_index2,ds['Value'][len(ds)-128:len(ds)-forecast_date],predicted_data_NN,'Time(Days)','Price','Actual Oil Price','Predicted Oil Price')\n"
      ],
      "metadata": {
        "colab": {
          "base_uri": "https://localhost:8080/",
          "height": 220
        },
        "id": "l3HdhpUmllc3",
        "outputId": "e9f8e0a2-29e7-41a7-9a34-06c695207bd3"
      },
      "execution_count": 43,
      "outputs": [
        {
          "output_type": "display_data",
          "data": {
            "text/plain": [
              "<Figure size 360x216 with 1 Axes>"
            ],
            "image/png": "[encoded data removed]"
          },
          "metadata": {
            "needs_background": "light"
          }
        }
      ]
    },
    {
      "cell_type": "code",
      "source": [
        "accuracy=100-adjacent_result\n",
        "print(\"Accuracy = \"'%.2f' %accuracy + \" %\")"
      ],
      "metadata": {
        "colab": {
          "base_uri": "https://localhost:8080/"
        },
        "id": "QA9SC2MqjBnF",
        "outputId": "5b3ae64c-e2ff-409e-b3e7-22ffc01803d5"
      },
      "execution_count": 44,
      "outputs": [
        {
          "output_type": "stream",
          "name": "stdout",
          "text": [
            "Accuracy = 99.52 %\n"
          ]
        }
      ]
    },
    {
      "cell_type": "markdown",
      "source": [
        "# **SAVE MODEL**"
      ],
      "metadata": {
        "id": "pkZ7fmHlon5b"
      }
    },
    {
      "cell_type": "code",
      "source": [
        "model.save('saved_model/my_model')"
      ],
      "metadata": {
        "id": "x6Qc-FQRoK6m"
      },
      "execution_count": 45,
      "outputs": []
    }
  ]
}