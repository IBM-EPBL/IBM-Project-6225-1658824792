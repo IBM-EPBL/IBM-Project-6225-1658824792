{
  "nbformat": 4,
  "nbformat_minor": 0,
  "metadata": {
    "colab": {
      "provenance": [],
      "collapsed_sections": []
    },
    "kernelspec": {
      "name": "python3",
      "display_name": "Python 3"
    },
    "language_info": {
      "name": "python"
    }
  },
  "cells": [
    {
      "cell_type": "markdown",
      "source": [
        "# **1.1. IMPORTING DATASET**"
      ],
      "metadata": {
        "id": "pPnT_XVXQ9kh"
      }
    },
    {
      "cell_type": "code",
      "execution_count": 163,
      "metadata": {
        "id": "w8rCsBrUKfPw"
      },
      "outputs": [],
      "source": [
        "import pandas as pd"
      ]
    },
    {
      "cell_type": "code",
      "source": [
        "ds=pd.read_csv(r\"Crude_Oil_Prices.csv\")"
      ],
      "metadata": {
        "id": "DuwHCfu1Knsl"
      },
      "execution_count": 164,
      "outputs": []
    },
    {
      "cell_type": "code",
      "source": [
        "ds.shape"
      ],
      "metadata": {
        "colab": {
          "base_uri": "https://localhost:8080/"
        },
        "id": "sOjj8txDNJ6q",
        "outputId": "6de8b0da-75c7-424c-a6f3-ad9631333b9f"
      },
      "execution_count": 165,
      "outputs": [
        {
          "output_type": "execute_result",
          "data": {
            "text/plain": [
              "(9315, 2)"
            ]
          },
          "metadata": {},
          "execution_count": 165
        }
      ]
    },
    {
      "cell_type": "code",
      "source": [
        "ds.head"
      ],
      "metadata": {
        "colab": {
          "base_uri": "https://localhost:8080/"
        },
        "id": "6hiX9ZpwNQ0x",
        "outputId": "89704664-450c-4866-8b01-acf032f2d143"
      },
      "execution_count": 166,
      "outputs": [
        {
          "output_type": "execute_result",
          "data": {
            "text/plain": [
              "<bound method NDFrame.head of             Date  Value\n",
              "0     02-01-1986  25.56\n",
              "1     03-01-1986  26.00\n",
              "2     06-01-1986  26.53\n",
              "3     07-01-1986  25.85\n",
              "4     08-01-1986  25.87\n",
              "...          ...    ...\n",
              "9310  12-11-2022    NaN\n",
              "9311  13-11-2022    NaN\n",
              "9312  14-11-2022    NaN\n",
              "9313  15-11-2022    NaN\n",
              "9314  16-11-2022    NaN\n",
              "\n",
              "[9315 rows x 2 columns]>"
            ]
          },
          "metadata": {},
          "execution_count": 166
        }
      ]
    },
    {
      "cell_type": "markdown",
      "source": [
        "# **1.2. IMPORTING LIBRARIES**"
      ],
      "metadata": {
        "id": "018JWw70RH4P"
      }
    },
    {
      "cell_type": "code",
      "source": [
        "import numpy as np\n",
        "import pandas as pd\n",
        "import seaborn as sns\n",
        "import matplotlib.pyplot as plt"
      ],
      "metadata": {
        "id": "F9YKcIeDRQMJ"
      },
      "execution_count": 167,
      "outputs": []
    },
    {
      "cell_type": "markdown",
      "source": [
        "# **1.3. HANDLING_MISSING_VALUES**"
      ],
      "metadata": {
        "id": "Vo8mB9MDS_mu"
      }
    },
    {
      "cell_type": "code",
      "source": [
        "ds.isnull().sum()\n"
      ],
      "metadata": {
        "id": "9V_ARs-XSePG",
        "colab": {
          "base_uri": "https://localhost:8080/"
        },
        "outputId": "fc7a240e-875b-4a5c-938d-e3d96cc6bfb1"
      },
      "execution_count": 168,
      "outputs": [
        {
          "output_type": "execute_result",
          "data": {
            "text/plain": [
              "Date      0\n",
              "Value    21\n",
              "dtype: int64"
            ]
          },
          "metadata": {},
          "execution_count": 168
        }
      ]
    },
    {
      "cell_type": "code",
      "source": [
        "hd=ds.dropna()\n",
        "print(hd)"
      ],
      "metadata": {
        "colab": {
          "base_uri": "https://localhost:8080/"
        },
        "id": "reZANjzzS3nN",
        "outputId": "9ce0fde3-b6e8-4b8a-9a88-c2f334af6f46"
      },
      "execution_count": 169,
      "outputs": [
        {
          "output_type": "stream",
          "name": "stdout",
          "text": [
            "            Date  Value\n",
            "0     02-01-1986  25.56\n",
            "1     03-01-1986  26.00\n",
            "2     06-01-1986  26.53\n",
            "3     07-01-1986  25.85\n",
            "4     08-01-1986  25.87\n",
            "...          ...    ...\n",
            "9289  20-10-2022  85.98\n",
            "9290  21-10-2022  85.05\n",
            "9291  24-10-2022  84.92\n",
            "9292  25-10-2022  84.79\n",
            "9293  26-10-2022  88.05\n",
            "\n",
            "[9294 rows x 2 columns]\n"
          ]
        }
      ]
    },
    {
      "cell_type": "code",
      "source": [
        "hd.isnull().sum()"
      ],
      "metadata": {
        "colab": {
          "base_uri": "https://localhost:8080/"
        },
        "id": "jTXYa5npS7ZQ",
        "outputId": "0aae322c-0903-4880-89e5-d5fdbf17f59a"
      },
      "execution_count": 170,
      "outputs": [
        {
          "output_type": "execute_result",
          "data": {
            "text/plain": [
              "Date     0\n",
              "Value    0\n",
              "dtype: int64"
            ]
          },
          "metadata": {},
          "execution_count": 170
        }
      ]
    },
    {
      "cell_type": "markdown",
      "source": [
        "# **1.4. FEATURE_SCALING**"
      ],
      "metadata": {
        "id": "S41MVj_SSgDL"
      }
    },
    {
      "cell_type": "code",
      "source": [
        "from sklearn import preprocessing"
      ],
      "metadata": {
        "id": "srttT2-lSa64"
      },
      "execution_count": 171,
      "outputs": []
    },
    {
      "cell_type": "code",
      "source": [
        "prepro = hd.iloc[:, 1:2].values\n",
        "print (\"\\nOriginal data values : \\n\",  prepro)"
      ],
      "metadata": {
        "colab": {
          "base_uri": "https://localhost:8080/"
        },
        "id": "fvLF-sF2TT1G",
        "outputId": "6f4531eb-65f9-46f6-d022-bfcc2c60bdd1"
      },
      "execution_count": 172,
      "outputs": [
        {
          "output_type": "stream",
          "name": "stdout",
          "text": [
            "\n",
            "Original data values : \n",
            " [[25.56]\n",
            " [26.  ]\n",
            " [26.53]\n",
            " ...\n",
            " [84.92]\n",
            " [84.79]\n",
            " [88.05]]\n"
          ]
        }
      ]
    },
    {
      "cell_type": "code",
      "source": [
        "min_max_scaler = preprocessing.MinMaxScaler(feature_range =(0, 1))\n",
        "x_after_min_max_scaler = min_max_scaler.fit_transform(prepro)\n",
        "print (\"\\nAfter min max Scaling : \\n\", x_after_min_max_scaler)"
      ],
      "metadata": {
        "colab": {
          "base_uri": "https://localhost:8080/"
        },
        "id": "ow44mah1Toog",
        "outputId": "98417781-f530-47bf-9377-3349566c53bb"
      },
      "execution_count": 173,
      "outputs": [
        {
          "output_type": "stream",
          "name": "stdout",
          "text": [
            "\n",
            "After min max Scaling : \n",
            " [[0.11335703]\n",
            " [0.11661484]\n",
            " [0.12053902]\n",
            " ...\n",
            " [0.55286539]\n",
            " [0.55190286]\n",
            " [0.57604028]]\n"
          ]
        }
      ]
    },
    {
      "cell_type": "code",
      "source": [
        "Standardisation = preprocessing.StandardScaler()\n",
        "x_after_Standardisation = Standardisation.fit_transform(prepro)\n",
        "print (\"\\nAfter Standardisation : \\n\", x_after_Standardisation)"
      ],
      "metadata": {
        "colab": {
          "base_uri": "https://localhost:8080/"
        },
        "id": "4s4-hnV7Twp_",
        "outputId": "ec62e668-0ad1-40b7-9433-2350ca2a166a"
      },
      "execution_count": 174,
      "outputs": [
        {
          "output_type": "stream",
          "name": "stdout",
          "text": [
            "\n",
            "After Standardisation : \n",
            " [[-0.68979433]\n",
            " [-0.67488539]\n",
            " [-0.65692689]\n",
            " ...\n",
            " [ 1.32155776]\n",
            " [ 1.31715284]\n",
            " [ 1.42761456]]\n"
          ]
        }
      ]
    },
    {
      "cell_type": "code",
      "source": [
        "data = x_after_min_max_scaler"
      ],
      "metadata": {
        "id": "MQtVpPpZUdU1"
      },
      "execution_count": 175,
      "outputs": []
    },
    {
      "cell_type": "markdown",
      "source": [
        "# **1.5. DATA_VISUALIZATION**"
      ],
      "metadata": {
        "id": "hwE25JLKVmos"
      }
    },
    {
      "cell_type": "code",
      "source": [
        "def strtodate(inp):\n",
        "  import datetime\n",
        "  return(datetime.datetime.strptime(inp,'%d-%m-%Y'))\n",
        "\n",
        "hd.Date=hd.Date.apply(strtodate)\n",
        "print(hd.Date)"
      ],
      "metadata": {
        "colab": {
          "base_uri": "https://localhost:8080/"
        },
        "id": "f4FQb5GDVyhk",
        "outputId": "ce1bfdbd-daa2-4e3c-8f8e-b9804f2a9b55"
      },
      "execution_count": 176,
      "outputs": [
        {
          "output_type": "stream",
          "name": "stdout",
          "text": [
            "0      1986-01-02\n",
            "1      1986-01-03\n",
            "2      1986-01-06\n",
            "3      1986-01-07\n",
            "4      1986-01-08\n",
            "          ...    \n",
            "9289   2022-10-20\n",
            "9290   2022-10-21\n",
            "9291   2022-10-24\n",
            "9292   2022-10-25\n",
            "9293   2022-10-26\n",
            "Name: Date, Length: 9294, dtype: datetime64[ns]\n"
          ]
        },
        {
          "output_type": "stream",
          "name": "stderr",
          "text": [
            "/usr/local/lib/python3.7/dist-packages/pandas/core/generic.py:5516: SettingWithCopyWarning: \n",
            "A value is trying to be set on a copy of a slice from a DataFrame.\n",
            "Try using .loc[row_indexer,col_indexer] = value instead\n",
            "\n",
            "See the caveats in the documentation: https://pandas.pydata.org/pandas-docs/stable/user_guide/indexing.html#returning-a-view-versus-a-copy\n",
            "  self[name] = value\n"
          ]
        }
      ]
    },
    {
      "cell_type": "code",
      "source": [
        "DF = pd.DataFrame()\n",
        "DF['value'] = hd.Value\n",
        "DF = DF.set_index(hd.Date)\n",
        "DF"
      ],
      "metadata": {
        "colab": {
          "base_uri": "https://localhost:8080/",
          "height": 455
        },
        "id": "j8xdOLxWgNt3",
        "outputId": "af6d1721-bfc5-431a-d067-f22e43a31efe"
      },
      "execution_count": 177,
      "outputs": [
        {
          "output_type": "execute_result",
          "data": {
            "text/plain": [
              "            value\n",
              "Date             \n",
              "1986-01-02  25.56\n",
              "1986-01-03  26.00\n",
              "1986-01-06  26.53\n",
              "1986-01-07  25.85\n",
              "1986-01-08  25.87\n",
              "...           ...\n",
              "2022-10-20  85.98\n",
              "2022-10-21  85.05\n",
              "2022-10-24  84.92\n",
              "2022-10-25  84.79\n",
              "2022-10-26  88.05\n",
              "\n",
              "[9294 rows x 1 columns]"
            ],
            "text/html": [
              "\n",
              "  <div id=\"df-f8d94527-acc4-46dd-8869-2d6c11ad9512\">\n",
              "    <div class=\"colab-df-container\">\n",
              "      <div>\n",
              "<style scoped>\n",
              "    .dataframe tbody tr th:only-of-type {\n",
              "        vertical-align: middle;\n",
              "    }\n",
              "\n",
              "    .dataframe tbody tr th {\n",
              "        vertical-align: top;\n",
              "    }\n",
              "\n",
              "    .dataframe thead th {\n",
              "        text-align: right;\n",
              "    }\n",
              "</style>\n",
              "<table border=\"1\" class=\"dataframe\">\n",
              "  <thead>\n",
              "    <tr style=\"text-align: right;\">\n",
              "      <th></th>\n",
              "      <th>value</th>\n",
              "    </tr>\n",
              "    <tr>\n",
              "      <th>Date</th>\n",
              "      <th></th>\n",
              "    </tr>\n",
              "  </thead>\n",
              "  <tbody>\n",
              "    <tr>\n",
              "      <th>1986-01-02</th>\n",
              "      <td>25.56</td>\n",
              "    </tr>\n",
              "    <tr>\n",
              "      <th>1986-01-03</th>\n",
              "      <td>26.00</td>\n",
              "    </tr>\n",
              "    <tr>\n",
              "      <th>1986-01-06</th>\n",
              "      <td>26.53</td>\n",
              "    </tr>\n",
              "    <tr>\n",
              "      <th>1986-01-07</th>\n",
              "      <td>25.85</td>\n",
              "    </tr>\n",
              "    <tr>\n",
              "      <th>1986-01-08</th>\n",
              "      <td>25.87</td>\n",
              "    </tr>\n",
              "    <tr>\n",
              "      <th>...</th>\n",
              "      <td>...</td>\n",
              "    </tr>\n",
              "    <tr>\n",
              "      <th>2022-10-20</th>\n",
              "      <td>85.98</td>\n",
              "    </tr>\n",
              "    <tr>\n",
              "      <th>2022-10-21</th>\n",
              "      <td>85.05</td>\n",
              "    </tr>\n",
              "    <tr>\n",
              "      <th>2022-10-24</th>\n",
              "      <td>84.92</td>\n",
              "    </tr>\n",
              "    <tr>\n",
              "      <th>2022-10-25</th>\n",
              "      <td>84.79</td>\n",
              "    </tr>\n",
              "    <tr>\n",
              "      <th>2022-10-26</th>\n",
              "      <td>88.05</td>\n",
              "    </tr>\n",
              "  </tbody>\n",
              "</table>\n",
              "<p>9294 rows × 1 columns</p>\n",
              "</div>\n",
              "      <button class=\"colab-df-convert\" onclick=\"convertToInteractive('df-f8d94527-acc4-46dd-8869-2d6c11ad9512')\"\n",
              "              title=\"Convert this dataframe to an interactive table.\"\n",
              "              style=\"display:none;\">\n",
              "        \n",
              "  <svg xmlns=\"http://www.w3.org/2000/svg\" height=\"24px\"viewBox=\"0 0 24 24\"\n",
              "       width=\"24px\">\n",
              "    <path d=\"M0 0h24v24H0V0z\" fill=\"none\"/>\n",
              "    <path d=\"M18.56 5.44l.94 2.06.94-2.06 2.06-.94-2.06-.94-.94-2.06-.94 2.06-2.06.94zm-11 1L8.5 8.5l.94-2.06 2.06-.94-2.06-.94L8.5 2.5l-.94 2.06-2.06.94zm10 10l.94 2.06.94-2.06 2.06-.94-2.06-.94-.94-2.06-.94 2.06-2.06.94z\"/><path d=\"M17.41 7.96l-1.37-1.37c-.4-.4-.92-.59-1.43-.59-.52 0-1.04.2-1.43.59L10.3 9.45l-7.72 7.72c-.78.78-.78 2.05 0 2.83L4 21.41c.39.39.9.59 1.41.59.51 0 1.02-.2 1.41-.59l7.78-7.78 2.81-2.81c.8-.78.8-2.07 0-2.86zM5.41 20L4 18.59l7.72-7.72 1.47 1.35L5.41 20z\"/>\n",
              "  </svg>\n",
              "      </button>\n",
              "      \n",
              "  <style>\n",
              "    .colab-df-container {\n",
              "      display:flex;\n",
              "      flex-wrap:wrap;\n",
              "      gap: 12px;\n",
              "    }\n",
              "\n",
              "    .colab-df-convert {\n",
              "      background-color: #E8F0FE;\n",
              "      border: none;\n",
              "      border-radius: 50%;\n",
              "      cursor: pointer;\n",
              "      display: none;\n",
              "      fill: #1967D2;\n",
              "      height: 32px;\n",
              "      padding: 0 0 0 0;\n",
              "      width: 32px;\n",
              "    }\n",
              "\n",
              "    .colab-df-convert:hover {\n",
              "      background-color: #E2EBFA;\n",
              "      box-shadow: 0px 1px 2px rgba(60, 64, 67, 0.3), 0px 1px 3px 1px rgba(60, 64, 67, 0.15);\n",
              "      fill: #174EA6;\n",
              "    }\n",
              "\n",
              "    [theme=dark] .colab-df-convert {\n",
              "      background-color: #3B4455;\n",
              "      fill: #D2E3FC;\n",
              "    }\n",
              "\n",
              "    [theme=dark] .colab-df-convert:hover {\n",
              "      background-color: #434B5C;\n",
              "      box-shadow: 0px 1px 3px 1px rgba(0, 0, 0, 0.15);\n",
              "      filter: drop-shadow(0px 1px 2px rgba(0, 0, 0, 0.3));\n",
              "      fill: #FFFFFF;\n",
              "    }\n",
              "  </style>\n",
              "\n",
              "      <script>\n",
              "        const buttonEl =\n",
              "          document.querySelector('#df-f8d94527-acc4-46dd-8869-2d6c11ad9512 button.colab-df-convert');\n",
              "        buttonEl.style.display =\n",
              "          google.colab.kernel.accessAllowed ? 'block' : 'none';\n",
              "\n",
              "        async function convertToInteractive(key) {\n",
              "          const element = document.querySelector('#df-f8d94527-acc4-46dd-8869-2d6c11ad9512');\n",
              "          const dataTable =\n",
              "            await google.colab.kernel.invokeFunction('convertToInteractive',\n",
              "                                                     [key], {});\n",
              "          if (!dataTable) return;\n",
              "\n",
              "          const docLinkHtml = 'Like what you see? Visit the ' +\n",
              "            '<a target=\"_blank\" href=https://colab.research.google.com/notebooks/data_table.ipynb>data table notebook</a>'\n",
              "            + ' to learn more about interactive tables.';\n",
              "          element.innerHTML = '';\n",
              "          dataTable['output_type'] = 'display_data';\n",
              "          await google.colab.output.renderOutput(dataTable, element);\n",
              "          const docLink = document.createElement('div');\n",
              "          docLink.innerHTML = docLinkHtml;\n",
              "          element.appendChild(docLink);\n",
              "        }\n",
              "      </script>\n",
              "    </div>\n",
              "  </div>\n",
              "  "
            ]
          },
          "metadata": {},
          "execution_count": 177
        }
      ]
    },
    {
      "cell_type": "code",
      "source": [
        "plt.plot(DF)\n",
        "plt.gcf().autofmt_xdate()\n",
        "plt.show()"
      ],
      "metadata": {
        "colab": {
          "base_uri": "https://localhost:8080/",
          "height": 255
        },
        "id": "6Zkxt0yphUWh",
        "outputId": "327e07cd-c086-497e-f70f-60a34cf29388"
      },
      "execution_count": 178,
      "outputs": [
        {
          "output_type": "display_data",
          "data": {
            "text/plain": [
              "<Figure size 432x288 with 1 Axes>"
            ],
            "image/png": "[encoded data removed]"
          },
          "metadata": {
            "needs_background": "light"
          }
        }
      ]
    },
    {
      "cell_type": "markdown",
      "source": [
        "# **1.6. SPLITTING_DATA_INTO_TRAINING_DATA_AND_TESTING_DATA**"
      ],
      "metadata": {
        "id": "9c-ZjIrNjO2v"
      }
    },
    {
      "cell_type": "code",
      "source": [
        "training_size=int(len(data)*0.65)\n",
        "test_size=len(data)-training_size\n",
        "train_data,test_data=data[0:training_size,:],data[training_size:len(data),:1]"
      ],
      "metadata": {
        "id": "q4j_882lz3Ba"
      },
      "execution_count": 179,
      "outputs": []
    },
    {
      "cell_type": "code",
      "source": [
        "training_size,test_size"
      ],
      "metadata": {
        "colab": {
          "base_uri": "https://localhost:8080/"
        },
        "id": "Zzvzg0QOTNzB",
        "outputId": "4700a4a9-d073-4324-b1fd-7985e81c54c2"
      },
      "execution_count": 180,
      "outputs": [
        {
          "output_type": "execute_result",
          "data": {
            "text/plain": [
              "(6041, 3253)"
            ]
          },
          "metadata": {},
          "execution_count": 180
        }
      ]
    },
    {
      "cell_type": "code",
      "source": [
        "train_data,test_data"
      ],
      "metadata": {
        "colab": {
          "base_uri": "https://localhost:8080/"
        },
        "id": "YO8QH4oKTOmm",
        "outputId": "7333b707-7443-45db-fecb-fc64949bf1ba"
      },
      "execution_count": 181,
      "outputs": [
        {
          "output_type": "execute_result",
          "data": {
            "text/plain": [
              "(array([[0.11335703],\n",
              "        [0.11661484],\n",
              "        [0.12053902],\n",
              "        ...,\n",
              "        [0.47119799],\n",
              "        [0.46157263],\n",
              "        [0.44735673]]), array([[0.4463942 ],\n",
              "        [0.4413594 ],\n",
              "        [0.43854583],\n",
              "        ...,\n",
              "        [0.55286539],\n",
              "        [0.55190286],\n",
              "        [0.57604028]]))"
            ]
          },
          "metadata": {},
          "execution_count": 181
        }
      ]
    },
    {
      "cell_type": "code",
      "source": [
        "def create_dataset(dataset,time_step=1):\n",
        "  dataX,dataY=[],[]\n",
        "  for i in range(len(dataset)-time_step-1):\n",
        "    a=dataset[i:(i+time_step),0]\n",
        "    dataX.append(a)\n",
        "    dataY.append(dataset[i+time_step,0])\n",
        "  return np.array(dataX),np.array(dataY)"
      ],
      "metadata": {
        "id": "RfPtvnDcetrS"
      },
      "execution_count": 182,
      "outputs": []
    },
    {
      "cell_type": "code",
      "source": [
        "train_data.shape"
      ],
      "metadata": {
        "colab": {
          "base_uri": "https://localhost:8080/"
        },
        "id": "y3pgs_uyVG93",
        "outputId": "40f20bba-481a-43c5-d68a-59587d00d092"
      },
      "execution_count": 183,
      "outputs": [
        {
          "output_type": "execute_result",
          "data": {
            "text/plain": [
              "(6041, 1)"
            ]
          },
          "metadata": {},
          "execution_count": 183
        }
      ]
    },
    {
      "cell_type": "code",
      "source": [
        "time_step=10\n",
        "x_train,y_train=create_dataset(train_data,time_step)\n",
        "x_test,y_test=create_dataset(test_data,time_step)"
      ],
      "metadata": {
        "id": "3qF4CKGtgBjO"
      },
      "execution_count": 184,
      "outputs": []
    },
    {
      "cell_type": "code",
      "source": [
        "x_train.shape,x_test.shape"
      ],
      "metadata": {
        "colab": {
          "base_uri": "https://localhost:8080/"
        },
        "id": "_MCxS36oV6Zp",
        "outputId": "6d387303-1b66-4077-a710-39e04f4ae786"
      },
      "execution_count": 191,
      "outputs": [
        {
          "output_type": "execute_result",
          "data": {
            "text/plain": [
              "((6030, 10, 1), (3242, 10, 1))"
            ]
          },
          "metadata": {},
          "execution_count": 191
        }
      ]
    },
    {
      "cell_type": "code",
      "source": [
        "x_train=x_train.reshape(x_train.shape[0],x_train.shape[1],1)\n",
        "x_test=x_test.reshape(x_test.shape[0],x_test.shape[1],1)"
      ],
      "metadata": {
        "id": "WSiPcs6IVTJk"
      },
      "execution_count": 185,
      "outputs": []
    },
    {
      "cell_type": "code",
      "source": [
        "x_train.shape,x_test.shape"
      ],
      "metadata": {
        "colab": {
          "base_uri": "https://localhost:8080/"
        },
        "id": "3Jcefq1VVV2u",
        "outputId": "95f9739e-73cf-46b2-c6f5-f6c0bae08336"
      },
      "execution_count": 190,
      "outputs": [
        {
          "output_type": "execute_result",
          "data": {
            "text/plain": [
              "((6030, 10, 1), (3242, 10, 1))"
            ]
          },
          "metadata": {},
          "execution_count": 190
        }
      ]
    }
  ]
}