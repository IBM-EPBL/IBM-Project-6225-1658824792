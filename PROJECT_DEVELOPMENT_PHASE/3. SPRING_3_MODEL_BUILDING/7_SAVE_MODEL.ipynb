{
  "nbformat": 4,
  "nbformat_minor": 0,
  "metadata": {
    "colab": {
      "provenance": [],
      "collapsed_sections": []
    },
    "kernelspec": {
      "name": "python3",
      "display_name": "Python 3"
    },
    "language_info": {
      "name": "python"
    }
  },
  "cells": [
    {
      "cell_type": "markdown",
      "source": [
        "# **IMPORTING MODEL BUILDING LIBRARIES**"
      ],
      "metadata": {
        "id": "pPnT_XVXQ9kh"
      }
    },
    {
      "cell_type": "code",
      "execution_count": 2,
      "metadata": {
        "id": "w8rCsBrUKfPw"
      },
      "outputs": [],
      "source": [
        "import numpy as np\n",
        "from keras.models import Sequential\n",
        "from keras.layers import LSTM\n",
        "from keras.layers import Dropout\n",
        "from keras.layers import Dense\n",
        "import pandas as pd\n",
        "from matplotlib import pyplot as plt\n",
        "from sklearn.preprocessing import StandardScaler\n",
        "from sklearn.metrics import mean_absolute_error as mae\n",
        "from sklearn.metrics import mean_squared_error as mse\n",
        "from sklearn.metrics import r2_score as r2s\n",
        "from google.colab import files\n",
        "from math import sqrt"
      ]
    },
    {
      "cell_type": "markdown",
      "source": [
        "# **INITIALIZING THE MODEL**"
      ],
      "metadata": {
        "id": "uDXO5HsXfQlW"
      }
    },
    {
      "cell_type": "code",
      "source": [
        "def plotCurve(x,y,xlable,ylabel,clabel):\n",
        "    fig, ax = plt.subplots(figsize=(5, 3))\n",
        "    fig.subplots_adjust(bottom=0.15, left=0.2)\n",
        "    ax.plot(x,y,label=clabel)\n",
        "    ax.set_xlabel(xlable)\n",
        "    ax.set_ylabel(ylabel)\n",
        "    plt.grid()\n",
        "    ax.legend()\n",
        "    plt.show()"
      ],
      "metadata": {
        "id": "GT0zND0ofPj2"
      },
      "execution_count": 3,
      "outputs": []
    },
    {
      "cell_type": "code",
      "source": [
        "def plotTwoCurves(x1,x2,y1,y2,xlable,ylabel,clabel1,clabel2):\n",
        "    fig, ax = plt.subplots(figsize=(5, 3))\n",
        "    fig.subplots_adjust(bottom=0.15, left=0.2)\n",
        "    ax.plot(x1,y1,color='blue',label=clabel1)\n",
        "    ax.plot(x2,y2,color='red',label=clabel2)\n",
        "    ax.set_xlabel(xlable)\n",
        "    ax.set_ylabel(ylabel)\n",
        "    plt.legend()\n",
        "    plt.show()"
      ],
      "metadata": {
        "id": "IpSN0phkfa-I"
      },
      "execution_count": 4,
      "outputs": []
    },
    {
      "cell_type": "code",
      "source": [
        "ds=pd.read_csv('Crude_Oil_Prices.csv')\n",
        "ds=ds.set_index(ds['Date'])\n",
        "ds=ds.dropna()\n",
        "print(ds)\n",
        "ds['Date']=pd.to_datetime(ds['Date'])\n",
        "print(ds['Value'].head())\n",
        "index1=ds['Date']"
      ],
      "metadata": {
        "colab": {
          "base_uri": "https://localhost:8080/"
        },
        "id": "BW_Bq1q-ffEo",
        "outputId": "2514f8d0-3a5b-4f96-ae59-0a84062c3d97"
      },
      "execution_count": 5,
      "outputs": [
        {
          "output_type": "stream",
          "name": "stdout",
          "text": [
            "                  Date  Value\n",
            "Date                         \n",
            "02-01-1986  02-01-1986  25.56\n",
            "03-01-1986  03-01-1986  26.00\n",
            "06-01-1986  06-01-1986  26.53\n",
            "07-01-1986  07-01-1986  25.85\n",
            "08-01-1986  08-01-1986  25.87\n",
            "...                ...    ...\n",
            "20-10-2022  20-10-2022  85.98\n",
            "21-10-2022  21-10-2022  85.05\n",
            "24-10-2022  24-10-2022  84.92\n",
            "25-10-2022  25-10-2022  84.79\n",
            "26-10-2022  26-10-2022  88.05\n",
            "\n",
            "[9294 rows x 2 columns]\n",
            "Date\n",
            "02-01-1986    25.56\n",
            "03-01-1986    26.00\n",
            "06-01-1986    26.53\n",
            "07-01-1986    25.85\n",
            "08-01-1986    25.87\n",
            "Name: Value, dtype: float64\n"
          ]
        }
      ]
    },
    {
      "cell_type": "code",
      "source": [
        "plotCurve(index1,ds['Value'],'Time(Days)','Price','Price Series')"
      ],
      "metadata": {
        "colab": {
          "base_uri": "https://localhost:8080/",
          "height": 221
        },
        "id": "YsyjMeKig2Ef",
        "outputId": "41480287-84fd-4228-d548-525e14e8b7fa"
      },
      "execution_count": 6,
      "outputs": [
        {
          "output_type": "display_data",
          "data": {
            "text/plain": [
              "<Figure size 360x216 with 1 Axes>"
            ],
            "image/png": "[encoded data removed]"
          },
          "metadata": {
            "needs_background": "light"
          }
        }
      ]
    },
    {
      "cell_type": "code",
      "source": [
        "ds_price=ds['Value'].astype(float)\n",
        "scaler=StandardScaler()\n",
        "scaler=scaler.fit(ds_price.values.reshape(-1, 1))\n",
        "ds_price_scaled=scaler.transform(ds_price.values.reshape(-1, 1))\n",
        "ds_price_scaled"
      ],
      "metadata": {
        "colab": {
          "base_uri": "https://localhost:8080/"
        },
        "id": "dM9vK9Maj30e",
        "outputId": "3979058b-4928-4576-b3bd-105e6bb22325"
      },
      "execution_count": 7,
      "outputs": [
        {
          "output_type": "execute_result",
          "data": {
            "text/plain": [
              "array([[-0.68979433],\n",
              "       [-0.67488539],\n",
              "       [-0.65692689],\n",
              "       ...,\n",
              "       [ 1.32155776],\n",
              "       [ 1.31715284],\n",
              "       [ 1.42761456]])"
            ]
          },
          "metadata": {},
          "execution_count": 7
        }
      ]
    },
    {
      "cell_type": "code",
      "source": [
        "plotTwoCurves(index1,index1,ds['Value'],ds_price_scaled,'Time(Days)','Price','Price Series','Scaled Price')"
      ],
      "metadata": {
        "colab": {
          "base_uri": "https://localhost:8080/",
          "height": 221
        },
        "id": "wa70lKYkj5cV",
        "outputId": "80dc822c-28dc-4e19-a65e-a46695bc01cb"
      },
      "execution_count": 8,
      "outputs": [
        {
          "output_type": "display_data",
          "data": {
            "text/plain": [
              "<Figure size 360x216 with 1 Axes>"
            ],
            "image/png": "[encoded data removed]"
          },
          "metadata": {
            "needs_background": "light"
          }
        }
      ]
    },
    {
      "cell_type": "markdown",
      "source": [
        "# **CREATING TRAINING AND TESTING DATA**"
      ],
      "metadata": {
        "id": "3CcnGDF_kaeO"
      }
    },
    {
      "cell_type": "code",
      "source": [
        "oilPX=[]\n",
        "oilPY=[]\n",
        "predicted_data=0\n",
        "actual_data=0\n",
        "next_period=1\n",
        "window_size=14"
      ],
      "metadata": {
        "id": "ZpgW7NovlVSw"
      },
      "execution_count": 9,
      "outputs": []
    },
    {
      "cell_type": "code",
      "source": [
        "for i in range(window_size, len(ds_price_scaled)-next_period+1):\n",
        "    oilPX.append(ds_price_scaled[i-window_size:i])\n",
        "    oilPY.append(ds_price_scaled[i+next_period-1:i+next_period,0])"
      ],
      "metadata": {
        "id": "rapCOjFnliwz"
      },
      "execution_count": 10,
      "outputs": []
    },
    {
      "cell_type": "code",
      "source": [
        "oilPX,oilPY=np.array(oilPX),np.array(oilPY)"
      ],
      "metadata": {
        "id": "Kt0jOUrhmGbA"
      },
      "execution_count": 11,
      "outputs": []
    },
    {
      "cell_type": "code",
      "source": [
        "print('shape= {}.'.format(ds.shape))\n",
        "print('Price Scaled shape= {}.'.format(ds_price_scaled.shape))\n",
        "print('oilPX shape== {}.'.format(oilPX.shape))\n",
        "print('oilPY shape== {}.'.format(oilPY.shape))"
      ],
      "metadata": {
        "colab": {
          "base_uri": "https://localhost:8080/"
        },
        "id": "kSaiiseXmIK1",
        "outputId": "7f22e296-0bf2-47dd-9610-dec5bd99bfb8"
      },
      "execution_count": 12,
      "outputs": [
        {
          "output_type": "stream",
          "name": "stdout",
          "text": [
            "shape= (9294, 2).\n",
            "Price Scaled shape= (9294, 1).\n",
            "oilPX shape== (9280, 14, 1).\n",
            "oilPY shape== (9280, 1).\n"
          ]
        }
      ]
    },
    {
      "cell_type": "markdown",
      "source": [
        "# **ADDING LSTM LAYERS**"
      ],
      "metadata": {
        "id": "XS7Coti0o87C"
      }
    },
    {
      "cell_type": "code",
      "source": [
        "model=Sequential()\n",
        "model.add(LSTM(100, activation='relu', input_shape=(oilPX.shape[1], oilPX.shape[2]), return_sequences=True))\n",
        "model.add(LSTM(50, activation='relu', return_sequences=False))\n",
        "model.add(Dropout(0.2))\n",
        "model.add(Dense(oilPY.shape[1]))"
      ],
      "metadata": {
        "id": "PccYuRXZo7tV"
      },
      "execution_count": 13,
      "outputs": []
    },
    {
      "cell_type": "code",
      "source": [
        "model.compile(optimizer='adam',loss='mse')\n",
        "model.summary()"
      ],
      "metadata": {
        "colab": {
          "base_uri": "https://localhost:8080/"
        },
        "id": "8HiLbeQKpVWV",
        "outputId": "0f564088-ad27-4373-86b4-83df29e9577d"
      },
      "execution_count": 14,
      "outputs": [
        {
          "output_type": "stream",
          "name": "stdout",
          "text": [
            "Model: \"sequential\"\n",
            "_________________________________________________________________\n",
            " Layer (type)                Output Shape              Param #   \n",
            "=================================================================\n",
            " lstm (LSTM)                 (None, 14, 100)           40800     \n",
            "                                                                 \n",
            " lstm_1 (LSTM)               (None, 50)                30200     \n",
            "                                                                 \n",
            " dropout (Dropout)           (None, 50)                0         \n",
            "                                                                 \n",
            " dense (Dense)               (None, 1)                 51        \n",
            "                                                                 \n",
            "=================================================================\n",
            "Total params: 71,051\n",
            "Trainable params: 71,051\n",
            "Non-trainable params: 0\n",
            "_________________________________________________________________\n"
          ]
        }
      ]
    },
    {
      "cell_type": "code",
      "source": [
        "history=model.fit(oilPX,oilPY,epochs=30,batch_size=16, validation_split=0.1,verbose=1)\n",
        "index2=range(0,len(history.history['loss']))"
      ],
      "metadata": {
        "colab": {
          "base_uri": "https://localhost:8080/"
        },
        "id": "P3WZ-NQDp2MC",
        "outputId": "806d68bd-a5d6-4e12-f41b-eedd93716be2"
      },
      "execution_count": 15,
      "outputs": [
        {
          "output_type": "stream",
          "name": "stdout",
          "text": [
            "Epoch 1/30\n",
            "522/522 [==============================] - 23s 35ms/step - loss: 0.0521 - val_loss: 0.0164\n",
            "Epoch 2/30\n",
            "522/522 [==============================] - 10s 18ms/step - loss: 0.0240 - val_loss: 0.0122\n",
            "Epoch 3/30\n",
            "522/522 [==============================] - 9s 17ms/step - loss: 0.0222 - val_loss: 0.0135\n",
            "Epoch 4/30\n",
            "522/522 [==============================] - 9s 17ms/step - loss: 0.0204 - val_loss: 0.0111\n",
            "Epoch 5/30\n",
            "522/522 [==============================] - 9s 17ms/step - loss: 0.0210 - val_loss: 0.0101\n",
            "Epoch 6/30\n",
            "522/522 [==============================] - 9s 17ms/step - loss: 0.0219 - val_loss: 0.0140\n",
            "Epoch 7/30\n",
            "522/522 [==============================] - 9s 17ms/step - loss: 0.0214 - val_loss: 0.0083\n",
            "Epoch 8/30\n",
            "522/522 [==============================] - 9s 17ms/step - loss: 0.0196 - val_loss: 0.0085\n",
            "Epoch 9/30\n",
            "522/522 [==============================] - 9s 17ms/step - loss: 0.0198 - val_loss: 0.0111\n",
            "Epoch 10/30\n",
            "522/522 [==============================] - 9s 17ms/step - loss: 0.0196 - val_loss: 0.0085\n",
            "Epoch 11/30\n",
            "522/522 [==============================] - 9s 17ms/step - loss: 0.0201 - val_loss: 0.0090\n",
            "Epoch 12/30\n",
            "522/522 [==============================] - 9s 17ms/step - loss: 0.0201 - val_loss: 0.0175\n",
            "Epoch 13/30\n",
            "522/522 [==============================] - 11s 21ms/step - loss: 0.0194 - val_loss: 0.0093\n",
            "Epoch 14/30\n",
            "522/522 [==============================] - 9s 17ms/step - loss: 0.0193 - val_loss: 0.0107\n",
            "Epoch 15/30\n",
            "522/522 [==============================] - 9s 17ms/step - loss: 0.0198 - val_loss: 0.0113\n",
            "Epoch 16/30\n",
            "522/522 [==============================] - 9s 17ms/step - loss: 0.0194 - val_loss: 0.0060\n",
            "Epoch 17/30\n",
            "522/522 [==============================] - 9s 16ms/step - loss: 0.0188 - val_loss: 0.0055\n",
            "Epoch 18/30\n",
            "522/522 [==============================] - 9s 17ms/step - loss: 0.0183 - val_loss: 0.0059\n",
            "Epoch 19/30\n",
            "522/522 [==============================] - 9s 16ms/step - loss: 0.0186 - val_loss: 0.0055\n",
            "Epoch 20/30\n",
            "522/522 [==============================] - 9s 17ms/step - loss: 0.0196 - val_loss: 0.0084\n",
            "Epoch 21/30\n",
            "522/522 [==============================] - 9s 17ms/step - loss: 0.0180 - val_loss: 0.0079\n",
            "Epoch 22/30\n",
            "522/522 [==============================] - 9s 17ms/step - loss: 0.0187 - val_loss: 0.0078\n",
            "Epoch 23/30\n",
            "522/522 [==============================] - 9s 17ms/step - loss: 0.0181 - val_loss: 0.0102\n",
            "Epoch 24/30\n",
            "522/522 [==============================] - 14s 27ms/step - loss: 0.0185 - val_loss: 0.0102\n",
            "Epoch 25/30\n",
            "522/522 [==============================] - 17s 32ms/step - loss: 0.0194 - val_loss: 0.0051\n",
            "Epoch 26/30\n",
            "522/522 [==============================] - 9s 17ms/step - loss: 0.0184 - val_loss: 0.0080\n",
            "Epoch 27/30\n",
            "522/522 [==============================] - 8s 16ms/step - loss: 0.0189 - val_loss: 0.0069\n",
            "Epoch 28/30\n",
            "522/522 [==============================] - 8s 16ms/step - loss: 0.0185 - val_loss: 0.0107\n",
            "Epoch 29/30\n",
            "522/522 [==============================] - 10s 19ms/step - loss: 0.0181 - val_loss: 0.0052\n",
            "Epoch 30/30\n",
            "522/522 [==============================] - 9s 16ms/step - loss: 0.0191 - val_loss: 0.0055\n"
          ]
        }
      ]
    },
    {
      "cell_type": "code",
      "source": [
        "plotTwoCurves(index2,index2,history.history['loss'],history.history['val_loss'],'Epochs','Loss','Loss Series','Value loss Series')"
      ],
      "metadata": {
        "colab": {
          "base_uri": "https://localhost:8080/",
          "height": 220
        },
        "id": "Xwnzx10pwZN_",
        "outputId": "6b5327a8-af16-4a3d-872c-cf1cbc8db2a8"
      },
      "execution_count": 16,
      "outputs": [
        {
          "output_type": "display_data",
          "data": {
            "text/plain": [
              "<Figure size 360x216 with 1 Axes>"
            ],
            "image/png": "[encoded data removed]"
          },
          "metadata": {
            "needs_background": "light"
          }
        }
      ]
    },
    {
      "cell_type": "markdown",
      "source": [
        "# **ADDING OUTPUT LAYERS, TESTING DATA AND CONFIGURING OUPUT DATA**"
      ],
      "metadata": {
        "id": "f07yfrULsVgf"
      }
    },
    {
      "cell_type": "code",
      "source": [
        "forecast_date=80\n",
        "predicted_data=model.predict(oilPX[-forecast_date:])\n",
        "actual_data=ds['Value'][-forecast_date:]"
      ],
      "metadata": {
        "colab": {
          "base_uri": "https://localhost:8080/"
        },
        "id": "rId2P2bJsEY3",
        "outputId": "2afd57b3-a983-432c-e963-cf4e3394f6a1"
      },
      "execution_count": 17,
      "outputs": [
        {
          "output_type": "stream",
          "name": "stdout",
          "text": [
            "3/3 [==============================] - 0s 10ms/step\n"
          ]
        }
      ]
    },
    {
      "cell_type": "code",
      "source": [
        "predicted_data_NN=scaler.inverse_transform(predicted_data)\n",
        "index3=range(0,len(predicted_data_NN))\n",
        "plotTwoCurves(index3,index3,ds['Value'][-forecast_date:],predicted_data_NN,'Time(Days)','Price','Actual Oil Price','Predicted Oil Price')"
      ],
      "metadata": {
        "colab": {
          "base_uri": "https://localhost:8080/",
          "height": 220
        },
        "id": "rckn9fu6sgmE",
        "outputId": "6c3d2030-9ce5-4d20-fa44-b3c624812bc2"
      },
      "execution_count": 18,
      "outputs": [
        {
          "output_type": "display_data",
          "data": {
            "text/plain": [
              "<Figure size 360x216 with 1 Axes>"
            ],
            "image/png": "[encoded data removed]"
          },
          "metadata": {
            "needs_background": "light"
          }
        }
      ]
    },
    {
      "cell_type": "code",
      "source": [
        "index4=range(0,len(ds)-forecast_date)\n",
        "index5=range(len(ds)-forecast_date,len(ds))\n",
        "plotTwoCurves(index4,index5,ds['Value'][0:len(ds)-forecast_date],predicted_data_NN,'Time(Days)','Price','Actual Oil Price','Predicted Oil Price')\n"
      ],
      "metadata": {
        "colab": {
          "base_uri": "https://localhost:8080/",
          "height": 221
        },
        "id": "e7WGDKnNtV2j",
        "outputId": "57873091-b688-4aec-eafb-9a3e6a1935ac"
      },
      "execution_count": 19,
      "outputs": [
        {
          "output_type": "display_data",
          "data": {
            "text/plain": [
              "<Figure size 360x216 with 1 Axes>"
            ],
            "image/png": "[encoded data removed]"
          },
          "metadata": {
            "needs_background": "light"
          }
        }
      ]
    },
    {
      "cell_type": "markdown",
      "source": [
        "# **EVALUATING AND TESTING DATA**"
      ],
      "metadata": {
        "id": "bYxwPdaII0ye"
      }
    },
    {
      "cell_type": "code",
      "source": [
        "mae1=mae(actual_data,predicted_data_NN)\n",
        "mse1=mse(actual_data,predicted_data_NN)\n",
        "print(mse1)\n",
        "rmse1=sqrt(mse1)\n",
        "r2_score=r2s(actual_data,predicted_data_NN)\n",
        "print(r2_score)\n",
        "n=forecast_date\n",
        "k=1\n",
        "adjacent_result=1-(((1-r2_score)*(n-1))/(n-k-1))\n",
        "print(adjacent_result)"
      ],
      "metadata": {
        "colab": {
          "base_uri": "https://localhost:8080/"
        },
        "id": "30dnSrPpElKM",
        "outputId": "456145fc-b6b2-49f0-a0be-0a70147b61bc"
      },
      "execution_count": 20,
      "outputs": [
        {
          "output_type": "stream",
          "name": "stdout",
          "text": [
            "7.668108013724597\n",
            "0.7909621762566658\n",
            "0.7882822041573923\n"
          ]
        }
      ]
    },
    {
      "cell_type": "code",
      "source": [
        "predict_index1=range(len(ds)-128,len(ds)-forecast_date)\n",
        "predict_index2=range(len(ds)-forecast_date,len(ds))\n",
        "plotTwoCurves(predict_index1,predict_index2,ds['Value'][len(ds)-128:len(ds)-forecast_date],predicted_data_NN,'Time(Days)','Price','Actual Oil Price','Predicted Oil Price')\n"
      ],
      "metadata": {
        "colab": {
          "base_uri": "https://localhost:8080/",
          "height": 220
        },
        "id": "l3HdhpUmllc3",
        "outputId": "c23f587a-742e-42a5-8d10-b44dbda5209d"
      },
      "execution_count": 21,
      "outputs": [
        {
          "output_type": "display_data",
          "data": {
            "text/plain": [
              "<Figure size 360x216 with 1 Axes>"
            ],
            "image/png": "[encoded data removed]"
          },
          "metadata": {
            "needs_background": "light"
          }
        }
      ]
    },
    {
      "cell_type": "code",
      "source": [
        "accuracy=100-(adjacent_result+r2_score+mse1)\n",
        "print(\"Accuracy = \"'%.2f' %accuracy + \" %\")"
      ],
      "metadata": {
        "colab": {
          "base_uri": "https://localhost:8080/"
        },
        "id": "QA9SC2MqjBnF",
        "outputId": "50706d13-4a02-45b7-aaf8-568f415be70e"
      },
      "execution_count": 24,
      "outputs": [
        {
          "output_type": "stream",
          "name": "stdout",
          "text": [
            "Accuracy = 90.75 %\n"
          ]
        }
      ]
    },
    {
      "cell_type": "markdown",
      "source": [
        "# **SAVE MODEL**"
      ],
      "metadata": {
        "id": "pkZ7fmHlon5b"
      }
    },
    {
      "cell_type": "code",
      "source": [
        "model.save('saved_model/my_model')"
      ],
      "metadata": {
        "id": "x6Qc-FQRoK6m"
      },
      "execution_count": 23,
      "outputs": []
    }
  ]
}