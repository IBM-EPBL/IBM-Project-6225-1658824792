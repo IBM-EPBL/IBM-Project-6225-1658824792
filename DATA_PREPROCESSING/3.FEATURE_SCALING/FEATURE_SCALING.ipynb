{
  "nbformat": 4,
  "nbformat_minor": 0,
  "metadata": {
    "colab": {
      "provenance": [],
      "collapsed_sections": []
    },
    "kernelspec": {
      "name": "python3",
      "display_name": "Python 3"
    },
    "language_info": {
      "name": "python"
    }
  },
  "cells": [
    {
      "cell_type": "markdown",
      "source": [
        "# **1.1. IMPORTING DATASET**"
      ],
      "metadata": {
        "id": "pPnT_XVXQ9kh"
      }
    },
    {
      "cell_type": "code",
      "execution_count": 26,
      "metadata": {
        "id": "w8rCsBrUKfPw"
      },
      "outputs": [],
      "source": [
        "import pandas as pd"
      ]
    },
    {
      "cell_type": "code",
      "source": [
        "ds=pd.read_csv(r\"Crude_Oil_Prices.csv\")"
      ],
      "metadata": {
        "id": "DuwHCfu1Knsl"
      },
      "execution_count": 27,
      "outputs": []
    },
    {
      "cell_type": "code",
      "source": [
        "ds.shape"
      ],
      "metadata": {
        "colab": {
          "base_uri": "https://localhost:8080/"
        },
        "id": "sOjj8txDNJ6q",
        "outputId": "ad2a94a9-e6a8-4c8e-a8bb-9886b05bbddd"
      },
      "execution_count": 28,
      "outputs": [
        {
          "output_type": "execute_result",
          "data": {
            "text/plain": [
              "(2547, 2)"
            ]
          },
          "metadata": {},
          "execution_count": 28
        }
      ]
    },
    {
      "cell_type": "code",
      "source": [
        "ds.head"
      ],
      "metadata": {
        "colab": {
          "base_uri": "https://localhost:8080/"
        },
        "id": "6hiX9ZpwNQ0x",
        "outputId": "c3291799-8411-44cf-916f-c724e240f0c6"
      },
      "execution_count": 29,
      "outputs": [
        {
          "output_type": "execute_result",
          "data": {
            "text/plain": [
              "<bound method NDFrame.head of             date   value\n",
              "0     29-10-2012   85.54\n",
              "1     30-10-2012   85.68\n",
              "2     31-10-2012   86.24\n",
              "3     01-11-2012   87.09\n",
              "4     02-11-2012   84.86\n",
              "...          ...     ...\n",
              "2542  12-11-2022     NaN\n",
              "2543  13-11-2022     NaN\n",
              "2544  14-11-2022     NaN\n",
              "2545  15-11-2022     NaN\n",
              "2546  16-11-2022     NaN\n",
              "\n",
              "[2547 rows x 2 columns]>"
            ]
          },
          "metadata": {},
          "execution_count": 29
        }
      ]
    },
    {
      "cell_type": "markdown",
      "source": [
        "# **1.2. IMPORTING LIBRARIES**"
      ],
      "metadata": {
        "id": "018JWw70RH4P"
      }
    },
    {
      "cell_type": "code",
      "source": [
        "import numpy as np\n",
        "import pandas as pd\n",
        "import seaborn as sns\n",
        "import matplotlib.pyplot as plt"
      ],
      "metadata": {
        "id": "F9YKcIeDRQMJ"
      },
      "execution_count": 30,
      "outputs": []
    },
    {
      "cell_type": "markdown",
      "source": [
        "# **1.3. HANDLING_MISSING_VALUES**"
      ],
      "metadata": {
        "id": "Vo8mB9MDS_mu"
      }
    },
    {
      "cell_type": "code",
      "source": [
        "ds.isnull().sum()\n"
      ],
      "metadata": {
        "id": "9V_ARs-XSePG",
        "colab": {
          "base_uri": "https://localhost:8080/"
        },
        "outputId": "826896ad-f5c7-4380-a0fa-19da5d54c42b"
      },
      "execution_count": 31,
      "outputs": [
        {
          "output_type": "execute_result",
          "data": {
            "text/plain": [
              "date       0\n",
              " value    21\n",
              "dtype: int64"
            ]
          },
          "metadata": {},
          "execution_count": 31
        }
      ]
    },
    {
      "cell_type": "code",
      "source": [
        "hd=ds.dropna()\n",
        "print(hd)"
      ],
      "metadata": {
        "colab": {
          "base_uri": "https://localhost:8080/"
        },
        "id": "reZANjzzS3nN",
        "outputId": "ffa85175-9457-459d-f877-c99f24b3b3c1"
      },
      "execution_count": 32,
      "outputs": [
        {
          "output_type": "stream",
          "name": "stdout",
          "text": [
            "            date   value\n",
            "0     29-10-2012   85.54\n",
            "1     30-10-2012   85.68\n",
            "2     31-10-2012   86.24\n",
            "3     01-11-2012   87.09\n",
            "4     02-11-2012   84.86\n",
            "...          ...     ...\n",
            "2521  20-10-2022   85.98\n",
            "2522  21-10-2022   85.05\n",
            "2523  24-10-2022   84.92\n",
            "2524  25-10-2022   84.79\n",
            "2525  26-10-2022   88.05\n",
            "\n",
            "[2526 rows x 2 columns]\n"
          ]
        }
      ]
    },
    {
      "cell_type": "code",
      "source": [
        "hd.isnull().sum()"
      ],
      "metadata": {
        "colab": {
          "base_uri": "https://localhost:8080/"
        },
        "id": "jTXYa5npS7ZQ",
        "outputId": "5c49f7ae-41a7-4250-d0fa-23cfb780ff6b"
      },
      "execution_count": 33,
      "outputs": [
        {
          "output_type": "execute_result",
          "data": {
            "text/plain": [
              "date      0\n",
              " value    0\n",
              "dtype: int64"
            ]
          },
          "metadata": {},
          "execution_count": 33
        }
      ]
    },
    {
      "cell_type": "markdown",
      "source": [
        "# **1.4. FEATURE_SCALING**"
      ],
      "metadata": {
        "id": "S41MVj_SSgDL"
      }
    },
    {
      "cell_type": "code",
      "source": [
        "from sklearn import preprocessing"
      ],
      "metadata": {
        "id": "srttT2-lSa64"
      },
      "execution_count": 34,
      "outputs": []
    },
    {
      "cell_type": "code",
      "source": [
        "x = hd.iloc[:, 1:2].values\n",
        "print (\"\\nOriginal data values : \\n\",  x)"
      ],
      "metadata": {
        "colab": {
          "base_uri": "https://localhost:8080/"
        },
        "id": "fvLF-sF2TT1G",
        "outputId": "8aa82001-a6b8-4f4d-c8d1-d303fbfd423d"
      },
      "execution_count": 35,
      "outputs": [
        {
          "output_type": "stream",
          "name": "stdout",
          "text": [
            "\n",
            "Original data values : \n",
            " [[85.54]\n",
            " [85.68]\n",
            " [86.24]\n",
            " ...\n",
            " [84.92]\n",
            " [84.79]\n",
            " [88.05]]\n"
          ]
        }
      ]
    },
    {
      "cell_type": "code",
      "source": [
        "min_max_scaler = preprocessing.MinMaxScaler(feature_range =(0, 1))\n",
        "x_after_min_max_scaler = min_max_scaler.fit_transform(x)\n",
        "print (\"\\nAfter min max Scaling : \\n\", x_after_min_max_scaler)"
      ],
      "metadata": {
        "colab": {
          "base_uri": "https://localhost:8080/"
        },
        "id": "ow44mah1Toog",
        "outputId": "fc7827d1-2412-4e3d-acd6-1fa13a809488"
      },
      "execution_count": 36,
      "outputs": [
        {
          "output_type": "stream",
          "name": "stdout",
          "text": [
            "\n",
            "After min max Scaling : \n",
            " [[0.66062503]\n",
            " [0.66187012]\n",
            " [0.66685047]\n",
            " ...\n",
            " [0.65511108]\n",
            " [0.65395493]\n",
            " [0.68294765]]\n"
          ]
        }
      ]
    },
    {
      "cell_type": "code",
      "source": [
        "Standardisation = preprocessing.StandardScaler()\n",
        "x_after_Standardisation = Standardisation.fit_transform(x)\n",
        "print (\"\\nAfter Standardisation : \\n\", x_after_Standardisation)"
      ],
      "metadata": {
        "colab": {
          "base_uri": "https://localhost:8080/"
        },
        "id": "4s4-hnV7Twp_",
        "outputId": "3e203ab0-0df5-4732-b627-f14f92426154"
      },
      "execution_count": 37,
      "outputs": [
        {
          "output_type": "stream",
          "name": "stdout",
          "text": [
            "\n",
            "After Standardisation : \n",
            " [[0.86576727]\n",
            " [0.87197137]\n",
            " [0.89678778]\n",
            " ...\n",
            " [0.83829196]\n",
            " [0.83253101]\n",
            " [0.97699794]]\n"
          ]
        }
      ]
    }
  ]
}