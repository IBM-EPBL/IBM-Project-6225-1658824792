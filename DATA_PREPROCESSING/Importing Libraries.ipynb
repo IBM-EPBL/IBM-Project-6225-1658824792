{
  "nbformat": 4,
  "nbformat_minor": 0,
  "metadata": {
    "colab": {
      "provenance": []
    },
    "kernelspec": {
      "name": "python3",
      "display_name": "Python 3"
    },
    "language_info": {
      "name": "python"
    }
  },
  "cells": [
    {
      "cell_type": "code",
      "execution_count": 12,
      "metadata": {
        "id": "w8rCsBrUKfPw"
      },
      "outputs": [],
      "source": [
        "import pandas as pd"
      ]
    },
    {
      "cell_type": "code",
      "source": [
        "ds=pd.read_csv(r\"Crude_Oil_Prices.csv\")"
      ],
      "metadata": {
        "id": "DuwHCfu1Knsl"
      },
      "execution_count": 13,
      "outputs": []
    },
    {
      "cell_type": "code",
      "source": [
        "ds.shape"
      ],
      "metadata": {
        "colab": {
          "base_uri": "https://localhost:8080/"
        },
        "id": "sOjj8txDNJ6q",
        "outputId": "9f8624d6-9910-450a-d718-adc54460f56c"
      },
      "execution_count": 14,
      "outputs": [
        {
          "output_type": "execute_result",
          "data": {
            "text/plain": [
              "(2547, 2)"
            ]
          },
          "metadata": {},
          "execution_count": 14
        }
      ]
    },
    {
      "cell_type": "code",
      "source": [
        "ds.head"
      ],
      "metadata": {
        "colab": {
          "base_uri": "https://localhost:8080/"
        },
        "id": "6hiX9ZpwNQ0x",
        "outputId": "a61ed13a-6d68-4b5f-a76a-33e2275d560f"
      },
      "execution_count": 15,
      "outputs": [
        {
          "output_type": "execute_result",
          "data": {
            "text/plain": [
              "<bound method NDFrame.head of             date   value\n",
              "0     29-10-2012   85.54\n",
              "1     30-10-2012   85.68\n",
              "2     31-10-2012   86.24\n",
              "3     01-11-2012   87.09\n",
              "4     02-11-2012   84.86\n",
              "...          ...     ...\n",
              "2542  12-11-2022     NaN\n",
              "2543  13-11-2022     NaN\n",
              "2544  14-11-2022     NaN\n",
              "2545  15-11-2022     NaN\n",
              "2546  16-11-2022     NaN\n",
              "\n",
              "[2547 rows x 2 columns]>"
            ]
          },
          "metadata": {},
          "execution_count": 15
        }
      ]
    }
  ]
}