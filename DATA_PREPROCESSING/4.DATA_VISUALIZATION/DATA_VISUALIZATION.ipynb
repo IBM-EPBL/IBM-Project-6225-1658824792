{
  "nbformat": 4,
  "nbformat_minor": 0,
  "metadata": {
    "colab": {
      "provenance": [],
      "collapsed_sections": []
    },
    "kernelspec": {
      "name": "python3",
      "display_name": "Python 3"
    },
    "language_info": {
      "name": "python"
    }
  },
  "cells": [
    {
      "cell_type": "markdown",
      "source": [
        "# **1.1. IMPORTING DATASET**"
      ],
      "metadata": {
        "id": "pPnT_XVXQ9kh"
      }
    },
    {
      "cell_type": "code",
      "execution_count": 113,
      "metadata": {
        "id": "w8rCsBrUKfPw"
      },
      "outputs": [],
      "source": [
        "import pandas as pd"
      ]
    },
    {
      "cell_type": "code",
      "source": [
        "ds=pd.read_csv(r\"Crude_Oil_Prices.csv\")"
      ],
      "metadata": {
        "id": "DuwHCfu1Knsl"
      },
      "execution_count": 114,
      "outputs": []
    },
    {
      "cell_type": "code",
      "source": [
        "ds.shape"
      ],
      "metadata": {
        "colab": {
          "base_uri": "https://localhost:8080/"
        },
        "id": "sOjj8txDNJ6q",
        "outputId": "d1bd22c8-416d-4152-ec0a-4c180f8788b8"
      },
      "execution_count": 115,
      "outputs": [
        {
          "output_type": "execute_result",
          "data": {
            "text/plain": [
              "(2547, 2)"
            ]
          },
          "metadata": {},
          "execution_count": 115
        }
      ]
    },
    {
      "cell_type": "code",
      "source": [
        "ds.head"
      ],
      "metadata": {
        "colab": {
          "base_uri": "https://localhost:8080/"
        },
        "id": "6hiX9ZpwNQ0x",
        "outputId": "9d9cd2b6-5872-4008-9f18-9142792bbba6"
      },
      "execution_count": 116,
      "outputs": [
        {
          "output_type": "execute_result",
          "data": {
            "text/plain": [
              "<bound method NDFrame.head of             Date  Value\n",
              "0     29-10-2012  85.54\n",
              "1     30-10-2012  85.68\n",
              "2     31-10-2012  86.24\n",
              "3     01-11-2012  87.09\n",
              "4     02-11-2012  84.86\n",
              "...          ...    ...\n",
              "2542  12-11-2022    NaN\n",
              "2543  13-11-2022    NaN\n",
              "2544  14-11-2022    NaN\n",
              "2545  15-11-2022    NaN\n",
              "2546  16-11-2022    NaN\n",
              "\n",
              "[2547 rows x 2 columns]>"
            ]
          },
          "metadata": {},
          "execution_count": 116
        }
      ]
    },
    {
      "cell_type": "markdown",
      "source": [
        "# **1.2. IMPORTING LIBRARIES**"
      ],
      "metadata": {
        "id": "018JWw70RH4P"
      }
    },
    {
      "cell_type": "code",
      "source": [
        "import numpy as np\n",
        "import pandas as pd\n",
        "import seaborn as sns\n",
        "import matplotlib.pyplot as plt"
      ],
      "metadata": {
        "id": "F9YKcIeDRQMJ"
      },
      "execution_count": 117,
      "outputs": []
    },
    {
      "cell_type": "markdown",
      "source": [
        "# **1.3. HANDLING_MISSING_VALUES**"
      ],
      "metadata": {
        "id": "Vo8mB9MDS_mu"
      }
    },
    {
      "cell_type": "code",
      "source": [
        "ds.isnull().sum()\n"
      ],
      "metadata": {
        "id": "9V_ARs-XSePG",
        "colab": {
          "base_uri": "https://localhost:8080/"
        },
        "outputId": "752b5806-e052-4df0-98a2-e2a8778fc5f1"
      },
      "execution_count": 118,
      "outputs": [
        {
          "output_type": "execute_result",
          "data": {
            "text/plain": [
              "Date      0\n",
              "Value    21\n",
              "dtype: int64"
            ]
          },
          "metadata": {},
          "execution_count": 118
        }
      ]
    },
    {
      "cell_type": "code",
      "source": [
        "hd=ds.dropna()\n",
        "print(hd)"
      ],
      "metadata": {
        "colab": {
          "base_uri": "https://localhost:8080/"
        },
        "id": "reZANjzzS3nN",
        "outputId": "56616ba1-f0d3-4cf0-c600-100a4fa114c3"
      },
      "execution_count": 119,
      "outputs": [
        {
          "output_type": "stream",
          "name": "stdout",
          "text": [
            "            Date  Value\n",
            "0     29-10-2012  85.54\n",
            "1     30-10-2012  85.68\n",
            "2     31-10-2012  86.24\n",
            "3     01-11-2012  87.09\n",
            "4     02-11-2012  84.86\n",
            "...          ...    ...\n",
            "2521  20-10-2022  85.98\n",
            "2522  21-10-2022  85.05\n",
            "2523  24-10-2022  84.92\n",
            "2524  25-10-2022  84.79\n",
            "2525  26-10-2022  88.05\n",
            "\n",
            "[2526 rows x 2 columns]\n"
          ]
        }
      ]
    },
    {
      "cell_type": "code",
      "source": [
        "hd.isnull().sum()"
      ],
      "metadata": {
        "colab": {
          "base_uri": "https://localhost:8080/"
        },
        "id": "jTXYa5npS7ZQ",
        "outputId": "31b521d0-b7e3-41af-f98a-eb3c34fca421"
      },
      "execution_count": 120,
      "outputs": [
        {
          "output_type": "execute_result",
          "data": {
            "text/plain": [
              "Date     0\n",
              "Value    0\n",
              "dtype: int64"
            ]
          },
          "metadata": {},
          "execution_count": 120
        }
      ]
    },
    {
      "cell_type": "markdown",
      "source": [
        "# **1.4. FEATURE_SCALING**"
      ],
      "metadata": {
        "id": "S41MVj_SSgDL"
      }
    },
    {
      "cell_type": "code",
      "source": [
        "from sklearn import preprocessing"
      ],
      "metadata": {
        "id": "srttT2-lSa64"
      },
      "execution_count": 121,
      "outputs": []
    },
    {
      "cell_type": "code",
      "source": [
        "x = hd.iloc[:, 1:2].values\n",
        "print (\"\\nOriginal data values : \\n\",  x)"
      ],
      "metadata": {
        "colab": {
          "base_uri": "https://localhost:8080/"
        },
        "id": "fvLF-sF2TT1G",
        "outputId": "1d3e14a1-6ade-4411-f4a5-a307a5f4c72e"
      },
      "execution_count": 122,
      "outputs": [
        {
          "output_type": "stream",
          "name": "stdout",
          "text": [
            "\n",
            "Original data values : \n",
            " [[85.54]\n",
            " [85.68]\n",
            " [86.24]\n",
            " ...\n",
            " [84.92]\n",
            " [84.79]\n",
            " [88.05]]\n"
          ]
        }
      ]
    },
    {
      "cell_type": "code",
      "source": [
        "min_max_scaler = preprocessing.MinMaxScaler(feature_range =(0, 1))\n",
        "x_after_min_max_scaler = min_max_scaler.fit_transform(x)\n",
        "print (\"\\nAfter min max Scaling : \\n\", x_after_min_max_scaler)"
      ],
      "metadata": {
        "colab": {
          "base_uri": "https://localhost:8080/"
        },
        "id": "ow44mah1Toog",
        "outputId": "1a655f3a-214a-4e77-fa00-c448fd8f13e0"
      },
      "execution_count": 123,
      "outputs": [
        {
          "output_type": "stream",
          "name": "stdout",
          "text": [
            "\n",
            "After min max Scaling : \n",
            " [[0.66062503]\n",
            " [0.66187012]\n",
            " [0.66685047]\n",
            " ...\n",
            " [0.65511108]\n",
            " [0.65395493]\n",
            " [0.68294765]]\n"
          ]
        }
      ]
    },
    {
      "cell_type": "code",
      "source": [
        "Standardisation = preprocessing.StandardScaler()\n",
        "x_after_Standardisation = Standardisation.fit_transform(x)\n",
        "print (\"\\nAfter Standardisation : \\n\", x_after_Standardisation)"
      ],
      "metadata": {
        "colab": {
          "base_uri": "https://localhost:8080/"
        },
        "id": "4s4-hnV7Twp_",
        "outputId": "5b3c5a02-bffa-4ce2-ba01-e684c346128e"
      },
      "execution_count": 124,
      "outputs": [
        {
          "output_type": "stream",
          "name": "stdout",
          "text": [
            "\n",
            "After Standardisation : \n",
            " [[0.86576727]\n",
            " [0.87197137]\n",
            " [0.89678778]\n",
            " ...\n",
            " [0.83829196]\n",
            " [0.83253101]\n",
            " [0.97699794]]\n"
          ]
        }
      ]
    },
    {
      "cell_type": "markdown",
      "source": [
        "# **DATA_VISUALIZATION**"
      ],
      "metadata": {
        "id": "hwE25JLKVmos"
      }
    },
    {
      "cell_type": "code",
      "source": [
        "def strtodate(inp):\n",
        "  import datetime\n",
        "  return(datetime.datetime.strptime(inp,'%d-%m-%Y'))\n",
        "hd.Date=hd.Date.apply(strtodate)\n",
        "print(hd.Date)"
      ],
      "metadata": {
        "colab": {
          "base_uri": "https://localhost:8080/"
        },
        "id": "f4FQb5GDVyhk",
        "outputId": "6469e44d-edde-4558-8aa4-3d1f85d681f8"
      },
      "execution_count": 125,
      "outputs": [
        {
          "output_type": "stream",
          "name": "stdout",
          "text": [
            "0      2012-10-29\n",
            "1      2012-10-30\n",
            "2      2012-10-31\n",
            "3      2012-11-01\n",
            "4      2012-11-02\n",
            "          ...    \n",
            "2521   2022-10-20\n",
            "2522   2022-10-21\n",
            "2523   2022-10-24\n",
            "2524   2022-10-25\n",
            "2525   2022-10-26\n",
            "Name: Date, Length: 2526, dtype: datetime64[ns]\n"
          ]
        },
        {
          "output_type": "stream",
          "name": "stderr",
          "text": [
            "/usr/local/lib/python3.7/dist-packages/pandas/core/generic.py:5516: SettingWithCopyWarning: \n",
            "A value is trying to be set on a copy of a slice from a DataFrame.\n",
            "Try using .loc[row_indexer,col_indexer] = value instead\n",
            "\n",
            "See the caveats in the documentation: https://pandas.pydata.org/pandas-docs/stable/user_guide/indexing.html#returning-a-view-versus-a-copy\n",
            "  self[name] = value\n"
          ]
        }
      ]
    },
    {
      "cell_type": "code",
      "source": [
        "DF = pd.DataFrame()\n",
        "DF['value'] = hd.Value\n",
        "DF = DF.set_index(hd.Date)\n",
        "DF"
      ],
      "metadata": {
        "colab": {
          "base_uri": "https://localhost:8080/",
          "height": 455
        },
        "id": "j8xdOLxWgNt3",
        "outputId": "7c39b2f1-58d3-4cd8-d088-b98356650a18"
      },
      "execution_count": 126,
      "outputs": [
        {
          "output_type": "execute_result",
          "data": {
            "text/plain": [
              "            value\n",
              "Date             \n",
              "2012-10-29  85.54\n",
              "2012-10-30  85.68\n",
              "2012-10-31  86.24\n",
              "2012-11-01  87.09\n",
              "2012-11-02  84.86\n",
              "...           ...\n",
              "2022-10-20  85.98\n",
              "2022-10-21  85.05\n",
              "2022-10-24  84.92\n",
              "2022-10-25  84.79\n",
              "2022-10-26  88.05\n",
              "\n",
              "[2526 rows x 1 columns]"
            ],
            "text/html": [
              "\n",
              "  <div id=\"df-42b96844-0c54-4459-8b3d-63951f426d9f\">\n",
              "    <div class=\"colab-df-container\">\n",
              "      <div>\n",
              "<style scoped>\n",
              "    .dataframe tbody tr th:only-of-type {\n",
              "        vertical-align: middle;\n",
              "    }\n",
              "\n",
              "    .dataframe tbody tr th {\n",
              "        vertical-align: top;\n",
              "    }\n",
              "\n",
              "    .dataframe thead th {\n",
              "        text-align: right;\n",
              "    }\n",
              "</style>\n",
              "<table border=\"1\" class=\"dataframe\">\n",
              "  <thead>\n",
              "    <tr style=\"text-align: right;\">\n",
              "      <th></th>\n",
              "      <th>value</th>\n",
              "    </tr>\n",
              "    <tr>\n",
              "      <th>Date</th>\n",
              "      <th></th>\n",
              "    </tr>\n",
              "  </thead>\n",
              "  <tbody>\n",
              "    <tr>\n",
              "      <th>2012-10-29</th>\n",
              "      <td>85.54</td>\n",
              "    </tr>\n",
              "    <tr>\n",
              "      <th>2012-10-30</th>\n",
              "      <td>85.68</td>\n",
              "    </tr>\n",
              "    <tr>\n",
              "      <th>2012-10-31</th>\n",
              "      <td>86.24</td>\n",
              "    </tr>\n",
              "    <tr>\n",
              "      <th>2012-11-01</th>\n",
              "      <td>87.09</td>\n",
              "    </tr>\n",
              "    <tr>\n",
              "      <th>2012-11-02</th>\n",
              "      <td>84.86</td>\n",
              "    </tr>\n",
              "    <tr>\n",
              "      <th>...</th>\n",
              "      <td>...</td>\n",
              "    </tr>\n",
              "    <tr>\n",
              "      <th>2022-10-20</th>\n",
              "      <td>85.98</td>\n",
              "    </tr>\n",
              "    <tr>\n",
              "      <th>2022-10-21</th>\n",
              "      <td>85.05</td>\n",
              "    </tr>\n",
              "    <tr>\n",
              "      <th>2022-10-24</th>\n",
              "      <td>84.92</td>\n",
              "    </tr>\n",
              "    <tr>\n",
              "      <th>2022-10-25</th>\n",
              "      <td>84.79</td>\n",
              "    </tr>\n",
              "    <tr>\n",
              "      <th>2022-10-26</th>\n",
              "      <td>88.05</td>\n",
              "    </tr>\n",
              "  </tbody>\n",
              "</table>\n",
              "<p>2526 rows × 1 columns</p>\n",
              "</div>\n",
              "      <button class=\"colab-df-convert\" onclick=\"convertToInteractive('df-42b96844-0c54-4459-8b3d-63951f426d9f')\"\n",
              "              title=\"Convert this dataframe to an interactive table.\"\n",
              "              style=\"display:none;\">\n",
              "        \n",
              "  <svg xmlns=\"http://www.w3.org/2000/svg\" height=\"24px\"viewBox=\"0 0 24 24\"\n",
              "       width=\"24px\">\n",
              "    <path d=\"M0 0h24v24H0V0z\" fill=\"none\"/>\n",
              "    <path d=\"M18.56 5.44l.94 2.06.94-2.06 2.06-.94-2.06-.94-.94-2.06-.94 2.06-2.06.94zm-11 1L8.5 8.5l.94-2.06 2.06-.94-2.06-.94L8.5 2.5l-.94 2.06-2.06.94zm10 10l.94 2.06.94-2.06 2.06-.94-2.06-.94-.94-2.06-.94 2.06-2.06.94z\"/><path d=\"M17.41 7.96l-1.37-1.37c-.4-.4-.92-.59-1.43-.59-.52 0-1.04.2-1.43.59L10.3 9.45l-7.72 7.72c-.78.78-.78 2.05 0 2.83L4 21.41c.39.39.9.59 1.41.59.51 0 1.02-.2 1.41-.59l7.78-7.78 2.81-2.81c.8-.78.8-2.07 0-2.86zM5.41 20L4 18.59l7.72-7.72 1.47 1.35L5.41 20z\"/>\n",
              "  </svg>\n",
              "      </button>\n",
              "      \n",
              "  <style>\n",
              "    .colab-df-container {\n",
              "      display:flex;\n",
              "      flex-wrap:wrap;\n",
              "      gap: 12px;\n",
              "    }\n",
              "\n",
              "    .colab-df-convert {\n",
              "      background-color: #E8F0FE;\n",
              "      border: none;\n",
              "      border-radius: 50%;\n",
              "      cursor: pointer;\n",
              "      display: none;\n",
              "      fill: #1967D2;\n",
              "      height: 32px;\n",
              "      padding: 0 0 0 0;\n",
              "      width: 32px;\n",
              "    }\n",
              "\n",
              "    .colab-df-convert:hover {\n",
              "      background-color: #E2EBFA;\n",
              "      box-shadow: 0px 1px 2px rgba(60, 64, 67, 0.3), 0px 1px 3px 1px rgba(60, 64, 67, 0.15);\n",
              "      fill: #174EA6;\n",
              "    }\n",
              "\n",
              "    [theme=dark] .colab-df-convert {\n",
              "      background-color: #3B4455;\n",
              "      fill: #D2E3FC;\n",
              "    }\n",
              "\n",
              "    [theme=dark] .colab-df-convert:hover {\n",
              "      background-color: #434B5C;\n",
              "      box-shadow: 0px 1px 3px 1px rgba(0, 0, 0, 0.15);\n",
              "      filter: drop-shadow(0px 1px 2px rgba(0, 0, 0, 0.3));\n",
              "      fill: #FFFFFF;\n",
              "    }\n",
              "  </style>\n",
              "\n",
              "      <script>\n",
              "        const buttonEl =\n",
              "          document.querySelector('#df-42b96844-0c54-4459-8b3d-63951f426d9f button.colab-df-convert');\n",
              "        buttonEl.style.display =\n",
              "          google.colab.kernel.accessAllowed ? 'block' : 'none';\n",
              "\n",
              "        async function convertToInteractive(key) {\n",
              "          const element = document.querySelector('#df-42b96844-0c54-4459-8b3d-63951f426d9f');\n",
              "          const dataTable =\n",
              "            await google.colab.kernel.invokeFunction('convertToInteractive',\n",
              "                                                     [key], {});\n",
              "          if (!dataTable) return;\n",
              "\n",
              "          const docLinkHtml = 'Like what you see? Visit the ' +\n",
              "            '<a target=\"_blank\" href=https://colab.research.google.com/notebooks/data_table.ipynb>data table notebook</a>'\n",
              "            + ' to learn more about interactive tables.';\n",
              "          element.innerHTML = '';\n",
              "          dataTable['output_type'] = 'display_data';\n",
              "          await google.colab.output.renderOutput(dataTable, element);\n",
              "          const docLink = document.createElement('div');\n",
              "          docLink.innerHTML = docLinkHtml;\n",
              "          element.appendChild(docLink);\n",
              "        }\n",
              "      </script>\n",
              "    </div>\n",
              "  </div>\n",
              "  "
            ]
          },
          "metadata": {},
          "execution_count": 126
        }
      ]
    },
    {
      "cell_type": "code",
      "source": [
        "plt.plot(DF)\n",
        "plt.gcf().autofmt_xdate()\n",
        "plt.show()"
      ],
      "metadata": {
        "colab": {
          "base_uri": "https://localhost:8080/",
          "height": 255
        },
        "id": "6Zkxt0yphUWh",
        "outputId": "19950e90-b7a2-4350-ebda-dc73160e9f4a"
      },
      "execution_count": 127,
      "outputs": [
        {
          "output_type": "display_data",
          "data": {
            "text/plain": [
              "<Figure size 432x288 with 1 Axes>"
            ],
            "image/png": "[encoded data removed]"
          },
          "metadata": {
            "needs_background": "light"
          }
        }
      ]
    }
  ]
}