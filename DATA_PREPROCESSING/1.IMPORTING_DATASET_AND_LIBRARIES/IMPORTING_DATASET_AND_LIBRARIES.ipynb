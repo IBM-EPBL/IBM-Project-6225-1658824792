{
  "nbformat": 4,
  "nbformat_minor": 0,
  "metadata": {
    "colab": {
      "provenance": []
    },
    "kernelspec": {
      "name": "python3",
      "display_name": "Python 3"
    },
    "language_info": {
      "name": "python"
    }
  },
  "cells": [
    {
      "cell_type": "markdown",
      "source": [
        "# **1.1. IMPORTING DATASET**"
      ],
      "metadata": {
        "id": "pPnT_XVXQ9kh"
      }
    },
    {
      "cell_type": "code",
      "execution_count": 4,
      "metadata": {
        "id": "w8rCsBrUKfPw"
      },
      "outputs": [],
      "source": [
        "import pandas as pd"
      ]
    },
    {
      "cell_type": "code",
      "source": [
        "ds=pd.read_csv(r\"Crude_Oil_Prices.csv\")"
      ],
      "metadata": {
        "id": "DuwHCfu1Knsl"
      },
      "execution_count": 5,
      "outputs": []
    },
    {
      "cell_type": "code",
      "source": [
        "ds.shape"
      ],
      "metadata": {
        "colab": {
          "base_uri": "https://localhost:8080/"
        },
        "id": "sOjj8txDNJ6q",
        "outputId": "baa298a3-313d-42fe-98ff-cb7d2de29747"
      },
      "execution_count": 6,
      "outputs": [
        {
          "output_type": "execute_result",
          "data": {
            "text/plain": [
              "(2547, 2)"
            ]
          },
          "metadata": {},
          "execution_count": 6
        }
      ]
    },
    {
      "cell_type": "code",
      "source": [
        "ds.head"
      ],
      "metadata": {
        "colab": {
          "base_uri": "https://localhost:8080/"
        },
        "id": "6hiX9ZpwNQ0x",
        "outputId": "e718686c-5946-49f8-c7b9-f609270933c7"
      },
      "execution_count": 7,
      "outputs": [
        {
          "output_type": "execute_result",
          "data": {
            "text/plain": [
              "<bound method NDFrame.head of             date   value\n",
              "0     29-10-2012   85.54\n",
              "1     30-10-2012   85.68\n",
              "2     31-10-2012   86.24\n",
              "3     01-11-2012   87.09\n",
              "4     02-11-2012   84.86\n",
              "...          ...     ...\n",
              "2542  12-11-2022     NaN\n",
              "2543  13-11-2022     NaN\n",
              "2544  14-11-2022     NaN\n",
              "2545  15-11-2022     NaN\n",
              "2546  16-11-2022     NaN\n",
              "\n",
              "[2547 rows x 2 columns]>"
            ]
          },
          "metadata": {},
          "execution_count": 7
        }
      ]
    },
    {
      "cell_type": "markdown",
      "source": [
        "# **1.2. IMPORTING LIBRARIES**"
      ],
      "metadata": {
        "id": "018JWw70RH4P"
      }
    },
    {
      "cell_type": "code",
      "source": [
        "import numpy as np\n",
        "import pandas as pd\n",
        "import seaborn as sns\n",
        "import matplotlib.pyplot as plt"
      ],
      "metadata": {
        "id": "F9YKcIeDRQMJ"
      },
      "execution_count": 8,
      "outputs": []
    }
  ]
}