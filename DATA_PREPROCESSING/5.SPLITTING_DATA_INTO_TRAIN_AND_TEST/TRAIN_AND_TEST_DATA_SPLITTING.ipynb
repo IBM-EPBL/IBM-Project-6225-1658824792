{
  "nbformat": 4,
  "nbformat_minor": 0,
  "metadata": {
    "colab": {
      "provenance": [],
      "collapsed_sections": []
    },
    "kernelspec": {
      "name": "python3",
      "display_name": "Python 3"
    },
    "language_info": {
      "name": "python"
    }
  },
  "cells": [
    {
      "cell_type": "markdown",
      "source": [
        "# **1.1. IMPORTING DATASET**"
      ],
      "metadata": {
        "id": "pPnT_XVXQ9kh"
      }
    },
    {
      "cell_type": "code",
      "execution_count": 405,
      "metadata": {
        "id": "w8rCsBrUKfPw"
      },
      "outputs": [],
      "source": [
        "import pandas as pd"
      ]
    },
    {
      "cell_type": "code",
      "source": [
        "ds=pd.read_csv(r\"Crude_Oil_Prices.csv\")"
      ],
      "metadata": {
        "id": "DuwHCfu1Knsl"
      },
      "execution_count": 406,
      "outputs": []
    },
    {
      "cell_type": "code",
      "source": [
        "ds.shape"
      ],
      "metadata": {
        "colab": {
          "base_uri": "https://localhost:8080/"
        },
        "id": "sOjj8txDNJ6q",
        "outputId": "01e9cda7-f66b-4c26-83be-5811a451fa0e"
      },
      "execution_count": 407,
      "outputs": [
        {
          "output_type": "execute_result",
          "data": {
            "text/plain": [
              "(9315, 2)"
            ]
          },
          "metadata": {},
          "execution_count": 407
        }
      ]
    },
    {
      "cell_type": "code",
      "source": [
        "ds.head"
      ],
      "metadata": {
        "colab": {
          "base_uri": "https://localhost:8080/"
        },
        "id": "6hiX9ZpwNQ0x",
        "outputId": "81f28600-f26b-462a-e7b5-3fc38c3d3257"
      },
      "execution_count": 408,
      "outputs": [
        {
          "output_type": "execute_result",
          "data": {
            "text/plain": [
              "<bound method NDFrame.head of             Date  Value\n",
              "0     02-01-1986  25.56\n",
              "1     03-01-1986  26.00\n",
              "2     06-01-1986  26.53\n",
              "3     07-01-1986  25.85\n",
              "4     08-01-1986  25.87\n",
              "...          ...    ...\n",
              "9310  12-11-2022    NaN\n",
              "9311  13-11-2022    NaN\n",
              "9312  14-11-2022    NaN\n",
              "9313  15-11-2022    NaN\n",
              "9314  16-11-2022    NaN\n",
              "\n",
              "[9315 rows x 2 columns]>"
            ]
          },
          "metadata": {},
          "execution_count": 408
        }
      ]
    },
    {
      "cell_type": "markdown",
      "source": [
        "# **1.2. IMPORTING LIBRARIES**"
      ],
      "metadata": {
        "id": "018JWw70RH4P"
      }
    },
    {
      "cell_type": "code",
      "source": [
        "import numpy as np\n",
        "import pandas as pd\n",
        "import seaborn as sns\n",
        "import matplotlib.pyplot as plt"
      ],
      "metadata": {
        "id": "F9YKcIeDRQMJ"
      },
      "execution_count": 409,
      "outputs": []
    },
    {
      "cell_type": "markdown",
      "source": [
        "# **1.3. HANDLING_MISSING_VALUES**"
      ],
      "metadata": {
        "id": "Vo8mB9MDS_mu"
      }
    },
    {
      "cell_type": "code",
      "source": [
        "ds.isnull().sum()\n"
      ],
      "metadata": {
        "id": "9V_ARs-XSePG",
        "colab": {
          "base_uri": "https://localhost:8080/"
        },
        "outputId": "1a743109-cbe9-4055-aed5-d7f7e7c83d6b"
      },
      "execution_count": 410,
      "outputs": [
        {
          "output_type": "execute_result",
          "data": {
            "text/plain": [
              "Date      0\n",
              "Value    21\n",
              "dtype: int64"
            ]
          },
          "metadata": {},
          "execution_count": 410
        }
      ]
    },
    {
      "cell_type": "code",
      "source": [
        "hd=ds.dropna()\n",
        "print(hd)"
      ],
      "metadata": {
        "colab": {
          "base_uri": "https://localhost:8080/"
        },
        "id": "reZANjzzS3nN",
        "outputId": "6fc5c6d1-b1c6-475d-aad9-79a972b0a059"
      },
      "execution_count": 411,
      "outputs": [
        {
          "output_type": "stream",
          "name": "stdout",
          "text": [
            "            Date  Value\n",
            "0     02-01-1986  25.56\n",
            "1     03-01-1986  26.00\n",
            "2     06-01-1986  26.53\n",
            "3     07-01-1986  25.85\n",
            "4     08-01-1986  25.87\n",
            "...          ...    ...\n",
            "9289  20-10-2022  85.98\n",
            "9290  21-10-2022  85.05\n",
            "9291  24-10-2022  84.92\n",
            "9292  25-10-2022  84.79\n",
            "9293  26-10-2022  88.05\n",
            "\n",
            "[9294 rows x 2 columns]\n"
          ]
        }
      ]
    },
    {
      "cell_type": "code",
      "source": [
        "hd.isnull().sum()"
      ],
      "metadata": {
        "colab": {
          "base_uri": "https://localhost:8080/"
        },
        "id": "jTXYa5npS7ZQ",
        "outputId": "cd64a713-d7db-4eed-fb0d-b39a0e4be547"
      },
      "execution_count": 412,
      "outputs": [
        {
          "output_type": "execute_result",
          "data": {
            "text/plain": [
              "Date     0\n",
              "Value    0\n",
              "dtype: int64"
            ]
          },
          "metadata": {},
          "execution_count": 412
        }
      ]
    },
    {
      "cell_type": "markdown",
      "source": [
        "# **1.4. FEATURE_SCALING**"
      ],
      "metadata": {
        "id": "S41MVj_SSgDL"
      }
    },
    {
      "cell_type": "code",
      "source": [
        "from sklearn import preprocessing"
      ],
      "metadata": {
        "id": "srttT2-lSa64"
      },
      "execution_count": 413,
      "outputs": []
    },
    {
      "cell_type": "code",
      "source": [
        "prepro = hd.iloc[:, 1:2].values\n",
        "print (\"\\nOriginal data values : \\n\",  prepro)"
      ],
      "metadata": {
        "colab": {
          "base_uri": "https://localhost:8080/"
        },
        "id": "fvLF-sF2TT1G",
        "outputId": "f7e99c2e-5410-44a1-efff-e01caf31c7ee"
      },
      "execution_count": 414,
      "outputs": [
        {
          "output_type": "stream",
          "name": "stdout",
          "text": [
            "\n",
            "Original data values : \n",
            " [[25.56]\n",
            " [26.  ]\n",
            " [26.53]\n",
            " ...\n",
            " [84.92]\n",
            " [84.79]\n",
            " [88.05]]\n"
          ]
        }
      ]
    },
    {
      "cell_type": "code",
      "source": [
        "min_max_scaler = preprocessing.MinMaxScaler(feature_range =(0, 1))\n",
        "x_after_min_max_scaler = min_max_scaler.fit_transform(prepro)\n",
        "print (\"\\nAfter min max Scaling : \\n\", x_after_min_max_scaler)"
      ],
      "metadata": {
        "colab": {
          "base_uri": "https://localhost:8080/"
        },
        "id": "ow44mah1Toog",
        "outputId": "7ae0ea98-8c58-43c6-d5b8-0a5d83eee3f2"
      },
      "execution_count": 415,
      "outputs": [
        {
          "output_type": "stream",
          "name": "stdout",
          "text": [
            "\n",
            "After min max Scaling : \n",
            " [[0.11335703]\n",
            " [0.11661484]\n",
            " [0.12053902]\n",
            " ...\n",
            " [0.55286539]\n",
            " [0.55190286]\n",
            " [0.57604028]]\n"
          ]
        }
      ]
    },
    {
      "cell_type": "code",
      "source": [
        "Standardisation = preprocessing.StandardScaler()\n",
        "x_after_Standardisation = Standardisation.fit_transform(prepro)\n",
        "print (\"\\nAfter Standardisation : \\n\", x_after_Standardisation)"
      ],
      "metadata": {
        "colab": {
          "base_uri": "https://localhost:8080/"
        },
        "id": "4s4-hnV7Twp_",
        "outputId": "bf456433-4282-4434-8283-5faf52b5d355"
      },
      "execution_count": 416,
      "outputs": [
        {
          "output_type": "stream",
          "name": "stdout",
          "text": [
            "\n",
            "After Standardisation : \n",
            " [[-0.68979433]\n",
            " [-0.67488539]\n",
            " [-0.65692689]\n",
            " ...\n",
            " [ 1.32155776]\n",
            " [ 1.31715284]\n",
            " [ 1.42761456]]\n"
          ]
        }
      ]
    },
    {
      "cell_type": "markdown",
      "source": [
        "# **1.5. DATA_VISUALIZATION**"
      ],
      "metadata": {
        "id": "hwE25JLKVmos"
      }
    },
    {
      "cell_type": "code",
      "source": [
        "def strtodate(inp):\n",
        "  import datetime\n",
        "  return(datetime.datetime.strptime(inp,'%d-%m-%Y'))\n",
        "\n",
        "hd.Date=hd.Date.apply(strtodate)\n",
        "print(hd.Date)"
      ],
      "metadata": {
        "colab": {
          "base_uri": "https://localhost:8080/"
        },
        "id": "f4FQb5GDVyhk",
        "outputId": "3b288f78-e6a5-439b-ce13-a1143948bb38"
      },
      "execution_count": 417,
      "outputs": [
        {
          "output_type": "stream",
          "name": "stdout",
          "text": [
            "0      1986-01-02\n",
            "1      1986-01-03\n",
            "2      1986-01-06\n",
            "3      1986-01-07\n",
            "4      1986-01-08\n",
            "          ...    \n",
            "9289   2022-10-20\n",
            "9290   2022-10-21\n",
            "9291   2022-10-24\n",
            "9292   2022-10-25\n",
            "9293   2022-10-26\n",
            "Name: Date, Length: 9294, dtype: datetime64[ns]\n"
          ]
        },
        {
          "output_type": "stream",
          "name": "stderr",
          "text": [
            "/usr/local/lib/python3.7/dist-packages/pandas/core/generic.py:5516: SettingWithCopyWarning: \n",
            "A value is trying to be set on a copy of a slice from a DataFrame.\n",
            "Try using .loc[row_indexer,col_indexer] = value instead\n",
            "\n",
            "See the caveats in the documentation: https://pandas.pydata.org/pandas-docs/stable/user_guide/indexing.html#returning-a-view-versus-a-copy\n",
            "  self[name] = value\n"
          ]
        }
      ]
    },
    {
      "cell_type": "code",
      "source": [
        "DF = pd.DataFrame()\n",
        "DF['value'] = hd.Value\n",
        "DF = DF.set_index(hd.Date)\n",
        "DF"
      ],
      "metadata": {
        "colab": {
          "base_uri": "https://localhost:8080/",
          "height": 455
        },
        "id": "j8xdOLxWgNt3",
        "outputId": "82c6e6b9-4e5f-431f-cf9d-35a485eea133"
      },
      "execution_count": 418,
      "outputs": [
        {
          "output_type": "execute_result",
          "data": {
            "text/plain": [
              "            value\n",
              "Date             \n",
              "1986-01-02  25.56\n",
              "1986-01-03  26.00\n",
              "1986-01-06  26.53\n",
              "1986-01-07  25.85\n",
              "1986-01-08  25.87\n",
              "...           ...\n",
              "2022-10-20  85.98\n",
              "2022-10-21  85.05\n",
              "2022-10-24  84.92\n",
              "2022-10-25  84.79\n",
              "2022-10-26  88.05\n",
              "\n",
              "[9294 rows x 1 columns]"
            ],
            "text/html": [
              "\n",
              "  <div id=\"df-f83702be-03b3-408d-9314-6f3da921506c\">\n",
              "    <div class=\"colab-df-container\">\n",
              "      <div>\n",
              "<style scoped>\n",
              "    .dataframe tbody tr th:only-of-type {\n",
              "        vertical-align: middle;\n",
              "    }\n",
              "\n",
              "    .dataframe tbody tr th {\n",
              "        vertical-align: top;\n",
              "    }\n",
              "\n",
              "    .dataframe thead th {\n",
              "        text-align: right;\n",
              "    }\n",
              "</style>\n",
              "<table border=\"1\" class=\"dataframe\">\n",
              "  <thead>\n",
              "    <tr style=\"text-align: right;\">\n",
              "      <th></th>\n",
              "      <th>value</th>\n",
              "    </tr>\n",
              "    <tr>\n",
              "      <th>Date</th>\n",
              "      <th></th>\n",
              "    </tr>\n",
              "  </thead>\n",
              "  <tbody>\n",
              "    <tr>\n",
              "      <th>1986-01-02</th>\n",
              "      <td>25.56</td>\n",
              "    </tr>\n",
              "    <tr>\n",
              "      <th>1986-01-03</th>\n",
              "      <td>26.00</td>\n",
              "    </tr>\n",
              "    <tr>\n",
              "      <th>1986-01-06</th>\n",
              "      <td>26.53</td>\n",
              "    </tr>\n",
              "    <tr>\n",
              "      <th>1986-01-07</th>\n",
              "      <td>25.85</td>\n",
              "    </tr>\n",
              "    <tr>\n",
              "      <th>1986-01-08</th>\n",
              "      <td>25.87</td>\n",
              "    </tr>\n",
              "    <tr>\n",
              "      <th>...</th>\n",
              "      <td>...</td>\n",
              "    </tr>\n",
              "    <tr>\n",
              "      <th>2022-10-20</th>\n",
              "      <td>85.98</td>\n",
              "    </tr>\n",
              "    <tr>\n",
              "      <th>2022-10-21</th>\n",
              "      <td>85.05</td>\n",
              "    </tr>\n",
              "    <tr>\n",
              "      <th>2022-10-24</th>\n",
              "      <td>84.92</td>\n",
              "    </tr>\n",
              "    <tr>\n",
              "      <th>2022-10-25</th>\n",
              "      <td>84.79</td>\n",
              "    </tr>\n",
              "    <tr>\n",
              "      <th>2022-10-26</th>\n",
              "      <td>88.05</td>\n",
              "    </tr>\n",
              "  </tbody>\n",
              "</table>\n",
              "<p>9294 rows × 1 columns</p>\n",
              "</div>\n",
              "      <button class=\"colab-df-convert\" onclick=\"convertToInteractive('df-f83702be-03b3-408d-9314-6f3da921506c')\"\n",
              "              title=\"Convert this dataframe to an interactive table.\"\n",
              "              style=\"display:none;\">\n",
              "        \n",
              "  <svg xmlns=\"http://www.w3.org/2000/svg\" height=\"24px\"viewBox=\"0 0 24 24\"\n",
              "       width=\"24px\">\n",
              "    <path d=\"M0 0h24v24H0V0z\" fill=\"none\"/>\n",
              "    <path d=\"M18.56 5.44l.94 2.06.94-2.06 2.06-.94-2.06-.94-.94-2.06-.94 2.06-2.06.94zm-11 1L8.5 8.5l.94-2.06 2.06-.94-2.06-.94L8.5 2.5l-.94 2.06-2.06.94zm10 10l.94 2.06.94-2.06 2.06-.94-2.06-.94-.94-2.06-.94 2.06-2.06.94z\"/><path d=\"M17.41 7.96l-1.37-1.37c-.4-.4-.92-.59-1.43-.59-.52 0-1.04.2-1.43.59L10.3 9.45l-7.72 7.72c-.78.78-.78 2.05 0 2.83L4 21.41c.39.39.9.59 1.41.59.51 0 1.02-.2 1.41-.59l7.78-7.78 2.81-2.81c.8-.78.8-2.07 0-2.86zM5.41 20L4 18.59l7.72-7.72 1.47 1.35L5.41 20z\"/>\n",
              "  </svg>\n",
              "      </button>\n",
              "      \n",
              "  <style>\n",
              "    .colab-df-container {\n",
              "      display:flex;\n",
              "      flex-wrap:wrap;\n",
              "      gap: 12px;\n",
              "    }\n",
              "\n",
              "    .colab-df-convert {\n",
              "      background-color: #E8F0FE;\n",
              "      border: none;\n",
              "      border-radius: 50%;\n",
              "      cursor: pointer;\n",
              "      display: none;\n",
              "      fill: #1967D2;\n",
              "      height: 32px;\n",
              "      padding: 0 0 0 0;\n",
              "      width: 32px;\n",
              "    }\n",
              "\n",
              "    .colab-df-convert:hover {\n",
              "      background-color: #E2EBFA;\n",
              "      box-shadow: 0px 1px 2px rgba(60, 64, 67, 0.3), 0px 1px 3px 1px rgba(60, 64, 67, 0.15);\n",
              "      fill: #174EA6;\n",
              "    }\n",
              "\n",
              "    [theme=dark] .colab-df-convert {\n",
              "      background-color: #3B4455;\n",
              "      fill: #D2E3FC;\n",
              "    }\n",
              "\n",
              "    [theme=dark] .colab-df-convert:hover {\n",
              "      background-color: #434B5C;\n",
              "      box-shadow: 0px 1px 3px 1px rgba(0, 0, 0, 0.15);\n",
              "      filter: drop-shadow(0px 1px 2px rgba(0, 0, 0, 0.3));\n",
              "      fill: #FFFFFF;\n",
              "    }\n",
              "  </style>\n",
              "\n",
              "      <script>\n",
              "        const buttonEl =\n",
              "          document.querySelector('#df-f83702be-03b3-408d-9314-6f3da921506c button.colab-df-convert');\n",
              "        buttonEl.style.display =\n",
              "          google.colab.kernel.accessAllowed ? 'block' : 'none';\n",
              "\n",
              "        async function convertToInteractive(key) {\n",
              "          const element = document.querySelector('#df-f83702be-03b3-408d-9314-6f3da921506c');\n",
              "          const dataTable =\n",
              "            await google.colab.kernel.invokeFunction('convertToInteractive',\n",
              "                                                     [key], {});\n",
              "          if (!dataTable) return;\n",
              "\n",
              "          const docLinkHtml = 'Like what you see? Visit the ' +\n",
              "            '<a target=\"_blank\" href=https://colab.research.google.com/notebooks/data_table.ipynb>data table notebook</a>'\n",
              "            + ' to learn more about interactive tables.';\n",
              "          element.innerHTML = '';\n",
              "          dataTable['output_type'] = 'display_data';\n",
              "          await google.colab.output.renderOutput(dataTable, element);\n",
              "          const docLink = document.createElement('div');\n",
              "          docLink.innerHTML = docLinkHtml;\n",
              "          element.appendChild(docLink);\n",
              "        }\n",
              "      </script>\n",
              "    </div>\n",
              "  </div>\n",
              "  "
            ]
          },
          "metadata": {},
          "execution_count": 418
        }
      ]
    },
    {
      "cell_type": "code",
      "source": [
        "plt.plot(DF)\n",
        "plt.gcf().autofmt_xdate()\n",
        "plt.show()"
      ],
      "metadata": {
        "colab": {
          "base_uri": "https://localhost:8080/",
          "height": 255
        },
        "id": "6Zkxt0yphUWh",
        "outputId": "7ac8f7a9-b91b-4563-97d7-0585b50d339d"
      },
      "execution_count": 419,
      "outputs": [
        {
          "output_type": "display_data",
          "data": {
            "text/plain": [
              "<Figure size 432x288 with 1 Axes>"
            ],
            "image/png": "[encoded data removed]"
          },
          "metadata": {
            "needs_background": "light"
          }
        }
      ]
    },
    {
      "cell_type": "markdown",
      "source": [
        "# **1.6. SPLITTING_DATA_INTO_TRAINING_DATA_AND_TESTING_DATA**"
      ],
      "metadata": {
        "id": "9c-ZjIrNjO2v"
      }
    },
    {
      "cell_type": "code",
      "source": [
        "hd['TV1'] = hd['Value'].shift(1).rolling(window=3).mean()\n",
        "hd['TV2']= hd['Value'].shift(1).rolling(window=9).mean()\n",
        "hd = hd.dropna()"
      ],
      "metadata": {
        "colab": {
          "base_uri": "https://localhost:8080/"
        },
        "id": "z2YYdrUHjhu2",
        "outputId": "83399ebc-bdca-4eb2-ca76-dd503e157973"
      },
      "execution_count": 420,
      "outputs": [
        {
          "output_type": "stream",
          "name": "stderr",
          "text": [
            "/usr/local/lib/python3.7/dist-packages/ipykernel_launcher.py:1: SettingWithCopyWarning: \n",
            "A value is trying to be set on a copy of a slice from a DataFrame.\n",
            "Try using .loc[row_indexer,col_indexer] = value instead\n",
            "\n",
            "See the caveats in the documentation: https://pandas.pydata.org/pandas-docs/stable/user_guide/indexing.html#returning-a-view-versus-a-copy\n",
            "  \"\"\"Entry point for launching an IPython kernel.\n",
            "/usr/local/lib/python3.7/dist-packages/ipykernel_launcher.py:2: SettingWithCopyWarning: \n",
            "A value is trying to be set on a copy of a slice from a DataFrame.\n",
            "Try using .loc[row_indexer,col_indexer] = value instead\n",
            "\n",
            "See the caveats in the documentation: https://pandas.pydata.org/pandas-docs/stable/user_guide/indexing.html#returning-a-view-versus-a-copy\n",
            "  \n"
          ]
        }
      ]
    },
    {
      "cell_type": "code",
      "source": [
        "x = hd[['TV1','TV2']]\n",
        "x.head"
      ],
      "metadata": {
        "colab": {
          "base_uri": "https://localhost:8080/"
        },
        "id": "QPFQVF26lZcu",
        "outputId": "5a02eaac-d8ea-450a-d9c4-1daaa0159776"
      },
      "execution_count": 421,
      "outputs": [
        {
          "output_type": "execute_result",
          "data": {
            "text/plain": [
              "<bound method NDFrame.head of             TV1        TV2\n",
              "9     25.233333  25.726667\n",
              "10    25.076667  25.684444\n",
              "11    24.710000  25.460000\n",
              "12    24.263333  25.137778\n",
              "13    22.980000  24.635556\n",
              "...         ...        ...\n",
              "9289  85.230000  87.744444\n",
              "9290  85.236667  87.004444\n",
              "9291  85.670000  86.358889\n",
              "9292  85.316667  85.945556\n",
              "9293  84.920000  85.675556\n",
              "\n",
              "[9285 rows x 2 columns]>"
            ]
          },
          "metadata": {},
          "execution_count": 421
        }
      ]
    },
    {
      "cell_type": "code",
      "source": [
        "hd['Year'] = hd['Date'].dt.year\n",
        "x = hd[['Year','TV1','TV2']]\n",
        "x.set_index('Year',inplace=True)\n",
        "x.head()"
      ],
      "metadata": {
        "colab": {
          "base_uri": "https://localhost:8080/",
          "height": 347
        },
        "id": "mpc-q4XqrxXQ",
        "outputId": "d049ae9a-6460-4780-d6e6-9dd05c13c5ee"
      },
      "execution_count": 422,
      "outputs": [
        {
          "output_type": "stream",
          "name": "stderr",
          "text": [
            "/usr/local/lib/python3.7/dist-packages/ipykernel_launcher.py:1: SettingWithCopyWarning: \n",
            "A value is trying to be set on a copy of a slice from a DataFrame.\n",
            "Try using .loc[row_indexer,col_indexer] = value instead\n",
            "\n",
            "See the caveats in the documentation: https://pandas.pydata.org/pandas-docs/stable/user_guide/indexing.html#returning-a-view-versus-a-copy\n",
            "  \"\"\"Entry point for launching an IPython kernel.\n"
          ]
        },
        {
          "output_type": "execute_result",
          "data": {
            "text/plain": [
              "            TV1        TV2\n",
              "Year                      \n",
              "1986  25.233333  25.726667\n",
              "1986  25.076667  25.684444\n",
              "1986  24.710000  25.460000\n",
              "1986  24.263333  25.137778\n",
              "1986  22.980000  24.635556"
            ],
            "text/html": [
              "\n",
              "  <div id=\"df-1077705e-f446-4f5d-871e-ee2d12adbf6c\">\n",
              "    <div class=\"colab-df-container\">\n",
              "      <div>\n",
              "<style scoped>\n",
              "    .dataframe tbody tr th:only-of-type {\n",
              "        vertical-align: middle;\n",
              "    }\n",
              "\n",
              "    .dataframe tbody tr th {\n",
              "        vertical-align: top;\n",
              "    }\n",
              "\n",
              "    .dataframe thead th {\n",
              "        text-align: right;\n",
              "    }\n",
              "</style>\n",
              "<table border=\"1\" class=\"dataframe\">\n",
              "  <thead>\n",
              "    <tr style=\"text-align: right;\">\n",
              "      <th></th>\n",
              "      <th>TV1</th>\n",
              "      <th>TV2</th>\n",
              "    </tr>\n",
              "    <tr>\n",
              "      <th>Year</th>\n",
              "      <th></th>\n",
              "      <th></th>\n",
              "    </tr>\n",
              "  </thead>\n",
              "  <tbody>\n",
              "    <tr>\n",
              "      <th>1986</th>\n",
              "      <td>25.233333</td>\n",
              "      <td>25.726667</td>\n",
              "    </tr>\n",
              "    <tr>\n",
              "      <th>1986</th>\n",
              "      <td>25.076667</td>\n",
              "      <td>25.684444</td>\n",
              "    </tr>\n",
              "    <tr>\n",
              "      <th>1986</th>\n",
              "      <td>24.710000</td>\n",
              "      <td>25.460000</td>\n",
              "    </tr>\n",
              "    <tr>\n",
              "      <th>1986</th>\n",
              "      <td>24.263333</td>\n",
              "      <td>25.137778</td>\n",
              "    </tr>\n",
              "    <tr>\n",
              "      <th>1986</th>\n",
              "      <td>22.980000</td>\n",
              "      <td>24.635556</td>\n",
              "    </tr>\n",
              "  </tbody>\n",
              "</table>\n",
              "</div>\n",
              "      <button class=\"colab-df-convert\" onclick=\"convertToInteractive('df-1077705e-f446-4f5d-871e-ee2d12adbf6c')\"\n",
              "              title=\"Convert this dataframe to an interactive table.\"\n",
              "              style=\"display:none;\">\n",
              "        \n",
              "  <svg xmlns=\"http://www.w3.org/2000/svg\" height=\"24px\"viewBox=\"0 0 24 24\"\n",
              "       width=\"24px\">\n",
              "    <path d=\"M0 0h24v24H0V0z\" fill=\"none\"/>\n",
              "    <path d=\"M18.56 5.44l.94 2.06.94-2.06 2.06-.94-2.06-.94-.94-2.06-.94 2.06-2.06.94zm-11 1L8.5 8.5l.94-2.06 2.06-.94-2.06-.94L8.5 2.5l-.94 2.06-2.06.94zm10 10l.94 2.06.94-2.06 2.06-.94-2.06-.94-.94-2.06-.94 2.06-2.06.94z\"/><path d=\"M17.41 7.96l-1.37-1.37c-.4-.4-.92-.59-1.43-.59-.52 0-1.04.2-1.43.59L10.3 9.45l-7.72 7.72c-.78.78-.78 2.05 0 2.83L4 21.41c.39.39.9.59 1.41.59.51 0 1.02-.2 1.41-.59l7.78-7.78 2.81-2.81c.8-.78.8-2.07 0-2.86zM5.41 20L4 18.59l7.72-7.72 1.47 1.35L5.41 20z\"/>\n",
              "  </svg>\n",
              "      </button>\n",
              "      \n",
              "  <style>\n",
              "    .colab-df-container {\n",
              "      display:flex;\n",
              "      flex-wrap:wrap;\n",
              "      gap: 12px;\n",
              "    }\n",
              "\n",
              "    .colab-df-convert {\n",
              "      background-color: #E8F0FE;\n",
              "      border: none;\n",
              "      border-radius: 50%;\n",
              "      cursor: pointer;\n",
              "      display: none;\n",
              "      fill: #1967D2;\n",
              "      height: 32px;\n",
              "      padding: 0 0 0 0;\n",
              "      width: 32px;\n",
              "    }\n",
              "\n",
              "    .colab-df-convert:hover {\n",
              "      background-color: #E2EBFA;\n",
              "      box-shadow: 0px 1px 2px rgba(60, 64, 67, 0.3), 0px 1px 3px 1px rgba(60, 64, 67, 0.15);\n",
              "      fill: #174EA6;\n",
              "    }\n",
              "\n",
              "    [theme=dark] .colab-df-convert {\n",
              "      background-color: #3B4455;\n",
              "      fill: #D2E3FC;\n",
              "    }\n",
              "\n",
              "    [theme=dark] .colab-df-convert:hover {\n",
              "      background-color: #434B5C;\n",
              "      box-shadow: 0px 1px 3px 1px rgba(0, 0, 0, 0.15);\n",
              "      filter: drop-shadow(0px 1px 2px rgba(0, 0, 0, 0.3));\n",
              "      fill: #FFFFFF;\n",
              "    }\n",
              "  </style>\n",
              "\n",
              "      <script>\n",
              "        const buttonEl =\n",
              "          document.querySelector('#df-1077705e-f446-4f5d-871e-ee2d12adbf6c button.colab-df-convert');\n",
              "        buttonEl.style.display =\n",
              "          google.colab.kernel.accessAllowed ? 'block' : 'none';\n",
              "\n",
              "        async function convertToInteractive(key) {\n",
              "          const element = document.querySelector('#df-1077705e-f446-4f5d-871e-ee2d12adbf6c');\n",
              "          const dataTable =\n",
              "            await google.colab.kernel.invokeFunction('convertToInteractive',\n",
              "                                                     [key], {});\n",
              "          if (!dataTable) return;\n",
              "\n",
              "          const docLinkHtml = 'Like what you see? Visit the ' +\n",
              "            '<a target=\"_blank\" href=https://colab.research.google.com/notebooks/data_table.ipynb>data table notebook</a>'\n",
              "            + ' to learn more about interactive tables.';\n",
              "          element.innerHTML = '';\n",
              "          dataTable['output_type'] = 'display_data';\n",
              "          await google.colab.output.renderOutput(dataTable, element);\n",
              "          const docLink = document.createElement('div');\n",
              "          docLink.innerHTML = docLinkHtml;\n",
              "          element.appendChild(docLink);\n",
              "        }\n",
              "      </script>\n",
              "    </div>\n",
              "  </div>\n",
              "  "
            ]
          },
          "metadata": {},
          "execution_count": 422
        }
      ]
    },
    {
      "cell_type": "code",
      "source": [
        "y = hd[['Date','Value']]\n",
        "y.set_index('Date',inplace=True)\n",
        "y.head()"
      ],
      "metadata": {
        "colab": {
          "base_uri": "https://localhost:8080/",
          "height": 237
        },
        "id": "7zP3roHZmeT6",
        "outputId": "48920de7-d15e-4be6-81cc-438123d66e23"
      },
      "execution_count": 423,
      "outputs": [
        {
          "output_type": "execute_result",
          "data": {
            "text/plain": [
              "            Value\n",
              "Date             \n",
              "1986-01-15  25.18\n",
              "1986-01-16  23.98\n",
              "1986-01-17  23.63\n",
              "1986-01-20  21.33\n",
              "1986-01-21  20.61"
            ],
            "text/html": [
              "\n",
              "  <div id=\"df-0b511ee1-ed3f-405c-b99c-62be6a2afd3f\">\n",
              "    <div class=\"colab-df-container\">\n",
              "      <div>\n",
              "<style scoped>\n",
              "    .dataframe tbody tr th:only-of-type {\n",
              "        vertical-align: middle;\n",
              "    }\n",
              "\n",
              "    .dataframe tbody tr th {\n",
              "        vertical-align: top;\n",
              "    }\n",
              "\n",
              "    .dataframe thead th {\n",
              "        text-align: right;\n",
              "    }\n",
              "</style>\n",
              "<table border=\"1\" class=\"dataframe\">\n",
              "  <thead>\n",
              "    <tr style=\"text-align: right;\">\n",
              "      <th></th>\n",
              "      <th>Value</th>\n",
              "    </tr>\n",
              "    <tr>\n",
              "      <th>Date</th>\n",
              "      <th></th>\n",
              "    </tr>\n",
              "  </thead>\n",
              "  <tbody>\n",
              "    <tr>\n",
              "      <th>1986-01-15</th>\n",
              "      <td>25.18</td>\n",
              "    </tr>\n",
              "    <tr>\n",
              "      <th>1986-01-16</th>\n",
              "      <td>23.98</td>\n",
              "    </tr>\n",
              "    <tr>\n",
              "      <th>1986-01-17</th>\n",
              "      <td>23.63</td>\n",
              "    </tr>\n",
              "    <tr>\n",
              "      <th>1986-01-20</th>\n",
              "      <td>21.33</td>\n",
              "    </tr>\n",
              "    <tr>\n",
              "      <th>1986-01-21</th>\n",
              "      <td>20.61</td>\n",
              "    </tr>\n",
              "  </tbody>\n",
              "</table>\n",
              "</div>\n",
              "      <button class=\"colab-df-convert\" onclick=\"convertToInteractive('df-0b511ee1-ed3f-405c-b99c-62be6a2afd3f')\"\n",
              "              title=\"Convert this dataframe to an interactive table.\"\n",
              "              style=\"display:none;\">\n",
              "        \n",
              "  <svg xmlns=\"http://www.w3.org/2000/svg\" height=\"24px\"viewBox=\"0 0 24 24\"\n",
              "       width=\"24px\">\n",
              "    <path d=\"M0 0h24v24H0V0z\" fill=\"none\"/>\n",
              "    <path d=\"M18.56 5.44l.94 2.06.94-2.06 2.06-.94-2.06-.94-.94-2.06-.94 2.06-2.06.94zm-11 1L8.5 8.5l.94-2.06 2.06-.94-2.06-.94L8.5 2.5l-.94 2.06-2.06.94zm10 10l.94 2.06.94-2.06 2.06-.94-2.06-.94-.94-2.06-.94 2.06-2.06.94z\"/><path d=\"M17.41 7.96l-1.37-1.37c-.4-.4-.92-.59-1.43-.59-.52 0-1.04.2-1.43.59L10.3 9.45l-7.72 7.72c-.78.78-.78 2.05 0 2.83L4 21.41c.39.39.9.59 1.41.59.51 0 1.02-.2 1.41-.59l7.78-7.78 2.81-2.81c.8-.78.8-2.07 0-2.86zM5.41 20L4 18.59l7.72-7.72 1.47 1.35L5.41 20z\"/>\n",
              "  </svg>\n",
              "      </button>\n",
              "      \n",
              "  <style>\n",
              "    .colab-df-container {\n",
              "      display:flex;\n",
              "      flex-wrap:wrap;\n",
              "      gap: 12px;\n",
              "    }\n",
              "\n",
              "    .colab-df-convert {\n",
              "      background-color: #E8F0FE;\n",
              "      border: none;\n",
              "      border-radius: 50%;\n",
              "      cursor: pointer;\n",
              "      display: none;\n",
              "      fill: #1967D2;\n",
              "      height: 32px;\n",
              "      padding: 0 0 0 0;\n",
              "      width: 32px;\n",
              "    }\n",
              "\n",
              "    .colab-df-convert:hover {\n",
              "      background-color: #E2EBFA;\n",
              "      box-shadow: 0px 1px 2px rgba(60, 64, 67, 0.3), 0px 1px 3px 1px rgba(60, 64, 67, 0.15);\n",
              "      fill: #174EA6;\n",
              "    }\n",
              "\n",
              "    [theme=dark] .colab-df-convert {\n",
              "      background-color: #3B4455;\n",
              "      fill: #D2E3FC;\n",
              "    }\n",
              "\n",
              "    [theme=dark] .colab-df-convert:hover {\n",
              "      background-color: #434B5C;\n",
              "      box-shadow: 0px 1px 3px 1px rgba(0, 0, 0, 0.15);\n",
              "      filter: drop-shadow(0px 1px 2px rgba(0, 0, 0, 0.3));\n",
              "      fill: #FFFFFF;\n",
              "    }\n",
              "  </style>\n",
              "\n",
              "      <script>\n",
              "        const buttonEl =\n",
              "          document.querySelector('#df-0b511ee1-ed3f-405c-b99c-62be6a2afd3f button.colab-df-convert');\n",
              "        buttonEl.style.display =\n",
              "          google.colab.kernel.accessAllowed ? 'block' : 'none';\n",
              "\n",
              "        async function convertToInteractive(key) {\n",
              "          const element = document.querySelector('#df-0b511ee1-ed3f-405c-b99c-62be6a2afd3f');\n",
              "          const dataTable =\n",
              "            await google.colab.kernel.invokeFunction('convertToInteractive',\n",
              "                                                     [key], {});\n",
              "          if (!dataTable) return;\n",
              "\n",
              "          const docLinkHtml = 'Like what you see? Visit the ' +\n",
              "            '<a target=\"_blank\" href=https://colab.research.google.com/notebooks/data_table.ipynb>data table notebook</a>'\n",
              "            + ' to learn more about interactive tables.';\n",
              "          element.innerHTML = '';\n",
              "          dataTable['output_type'] = 'display_data';\n",
              "          await google.colab.output.renderOutput(dataTable, element);\n",
              "          const docLink = document.createElement('div');\n",
              "          docLink.innerHTML = docLinkHtml;\n",
              "          element.appendChild(docLink);\n",
              "        }\n",
              "      </script>\n",
              "    </div>\n",
              "  </div>\n",
              "  "
            ]
          },
          "metadata": {},
          "execution_count": 423
        }
      ]
    },
    {
      "cell_type": "code",
      "source": [
        "t = int(len(hd)*0.8)\n",
        "\n",
        "# Training dataset\n",
        "x_train = x[:t]\n",
        "y_train = y[:t]\n",
        "\n",
        "# Testing dataset\n",
        "x_test = x[t:]\n",
        "y_test = y[t:]"
      ],
      "metadata": {
        "id": "vBssOo_tmmUC"
      },
      "execution_count": 424,
      "outputs": []
    },
    {
      "cell_type": "code",
      "source": [
        "Date=y_test.index"
      ],
      "metadata": {
        "id": "QmlWbiI4u2es"
      },
      "execution_count": 425,
      "outputs": []
    },
    {
      "cell_type": "code",
      "source": [
        "from sklearn.linear_model import LinearRegression\n",
        "model = LinearRegression().fit(x_train,y_train)"
      ],
      "metadata": {
        "id": "VF6Z2qG1mzPr"
      },
      "execution_count": 426,
      "outputs": []
    },
    {
      "cell_type": "code",
      "source": [
        "index=0\n",
        "predicted_price = model.predict(x_test)\n",
        "predicted_price = pd.DataFrame(predicted_price,index=y_test.index,columns = ['Value'])"
      ],
      "metadata": {
        "id": "yUMfdLs8q896"
      },
      "execution_count": 427,
      "outputs": []
    },
    {
      "cell_type": "code",
      "source": [
        "fig, ax = plt.subplots()\n",
        "ax.plot(Date, predicted_price)\n",
        "ax.plot(Date, y_test)\n",
        "plt.legend(['Predicted Price','Actual Price'])\n",
        "plt.xlabel(\"Date\")\n",
        "plt.ylabel(\"Price \\n(in USD)\")\n",
        "plt.show()"
      ],
      "metadata": {
        "id": "IxVyGoYcrLQ8",
        "colab": {
          "base_uri": "https://localhost:8080/",
          "height": 279
        },
        "outputId": "d93de8b8-aeae-4113-f4a7-92a9c9468fb2"
      },
      "execution_count": 428,
      "outputs": [
        {
          "output_type": "display_data",
          "data": {
            "text/plain": [
              "<Figure size 432x288 with 1 Axes>"
            ],
            "image/png": "[encoded data removed]"
          },
          "metadata": {
            "needs_background": "light"
          }
        }
      ]
    },
    {
      "cell_type": "code",
      "source": [
        "Prediction_boolean = predicted_price['Value'] < y_test['Value']\n",
        "accuracy = 0\n",
        "Prediction_int=np.multiply(Prediction_boolean, 1)\n",
        "accuracy_array = np.where(Prediction_int.eq(1) , predicted_price['Value']/y_test['Value']*100 , y_test['Value']/predicted_price['Value']*100)\n",
        "accuracy = np.mean(accuracy_array)\n",
        "print(\"Accuracy = \"'%.2f' %accuracy + \" %\")"
      ],
      "metadata": {
        "colab": {
          "base_uri": "https://localhost:8080/"
        },
        "id": "U7owHZH7wLAs",
        "outputId": "ed92bf8f-cb81-48f1-d51c-ae185a9a80d4"
      },
      "execution_count": 429,
      "outputs": [
        {
          "output_type": "stream",
          "name": "stdout",
          "text": [
            "Accuracy = 97.67 %\n"
          ]
        }
      ]
    }
  ]
}